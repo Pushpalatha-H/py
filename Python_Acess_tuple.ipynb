{
  "nbformat": 4,
  "nbformat_minor": 0,
  "metadata": {
    "colab": {
      "provenance": [],
      "authorship_tag": "ABX9TyMNwu9ibQQHzcxAZXy/O4mW",
      "include_colab_link": true
    },
    "kernelspec": {
      "name": "python3",
      "display_name": "Python 3"
    },
    "language_info": {
      "name": "python"
    }
  },
  "cells": [
    {
      "cell_type": "markdown",
      "metadata": {
        "id": "view-in-github",
        "colab_type": "text"
      },
      "source": [
        "<a href=\"https://colab.research.google.com/github/Pushpalatha-H/py/blob/main/Python_Acess_tuple.ipynb\" target=\"_parent\"><img src=\"https://colab.research.google.com/assets/colab-badge.svg\" alt=\"Open In Colab\"/></a>"
      ]
    },
    {
      "cell_type": "markdown",
      "source": [
        "#Access Tuple Items\n",
        "**we can access tuple items by referring to the index number, inside square brackets.**"
      ],
      "metadata": {
        "id": "jTXgfnMBxeAm"
      }
    },
    {
      "cell_type": "markdown",
      "source": [
        "**1. Print second item in the list**"
      ],
      "metadata": {
        "id": "eD8uO-Ljya6Z"
      }
    },
    {
      "cell_type": "code",
      "execution_count": 2,
      "metadata": {
        "colab": {
          "base_uri": "https://localhost:8080/"
        },
        "id": "RJHBcI26xBGO",
        "outputId": "01ceb414-e12e-4c32-e875-a2635358b00f"
      },
      "outputs": [
        {
          "output_type": "stream",
          "name": "stdout",
          "text": [
            "banana\n"
          ]
        }
      ],
      "source": [
        "thistuple = (\"apple\", \"banana\", \"cherry\")\n",
        "print(thistuple[1])"
      ]
    },
    {
      "cell_type": "markdown",
      "source": [
        "# Negative indexing\n",
        "**Negative indexing starts from the end**\n",
        "\n",
        "[-1] means last element, [-2] means last second element\n",
        "\n",
        "**2. Print the last item of the tuple by Negative indexing:**"
      ],
      "metadata": {
        "id": "-CEfggyezCRM"
      }
    },
    {
      "cell_type": "code",
      "source": [
        "thistuple = (\"apple\", \"banana\", \"cherry\")\n",
        "print(thistuple[-1])"
      ],
      "metadata": {
        "colab": {
          "base_uri": "https://localhost:8080/"
        },
        "id": "M1GES1Uuy7eV",
        "outputId": "80d7a8fd-44b0-423f-cd15-590db6352692"
      },
      "execution_count": 4,
      "outputs": [
        {
          "output_type": "stream",
          "name": "stdout",
          "text": [
            "cherry\n"
          ]
        }
      ]
    },
    {
      "cell_type": "markdown",
      "source": [
        "# Range of Indexes\n",
        "Range of index refers to accessing elements from which element we need to the end of the element\n",
        "\n",
        "**Return the third, fourth, and fifth item:**"
      ],
      "metadata": {
        "id": "VObv2R2K0KXI"
      }
    },
    {
      "cell_type": "code",
      "source": [
        "thistuple = (\"apple\", \"banana\", \"cherry\", \"orange\", \"kiwi\", \"melon\", \"mango\")\n",
        "print(thistuple[2:5])"
      ],
      "metadata": {
        "colab": {
          "base_uri": "https://localhost:8080/"
        },
        "id": "DjvlESgjz77q",
        "outputId": "68dcf223-2b02-41d6-8809-4e5566bf90fd"
      },
      "execution_count": 7,
      "outputs": [
        {
          "output_type": "stream",
          "name": "stdout",
          "text": [
            "('cherry', 'orange', 'kiwi')\n"
          ]
        }
      ]
    },
    {
      "cell_type": "markdown",
      "source": [
        "**return the items from the beginning to, but NOT included, \"kiwi\":**"
      ],
      "metadata": {
        "id": "KIkMyL_w1FA1"
      }
    },
    {
      "cell_type": "code",
      "source": [
        "thistuple = (\"apple\", \"banana\", \"cherry\", \"orange\", \"kiwi\", \"melon\", \"mango\")\n",
        "print(thistuple[:4])"
      ],
      "metadata": {
        "colab": {
          "base_uri": "https://localhost:8080/"
        },
        "id": "LuPOq6Ko1J7w",
        "outputId": "0f17aadf-ce91-4cbf-8d3e-598d3bb8dad8"
      },
      "execution_count": 11,
      "outputs": [
        {
          "output_type": "stream",
          "name": "stdout",
          "text": [
            "('apple', 'banana', 'cherry', 'orange')\n"
          ]
        }
      ]
    },
    {
      "cell_type": "markdown",
      "source": [
        "**return the items from \"cherry\" and to the end**:"
      ],
      "metadata": {
        "id": "Xoj-o7tk11S1"
      }
    },
    {
      "cell_type": "code",
      "source": [
        "thistuple = (\"apple\", \"banana\", \"cherry\", \"orange\", \"kiwi\", \"melon\", \"mango\")\n",
        "print(thistuple[2:])"
      ],
      "metadata": {
        "colab": {
          "base_uri": "https://localhost:8080/"
        },
        "id": "xfGnX6Nf1_xO",
        "outputId": "a8d28647-9b89-4db6-a723-5ebc841b8eef"
      },
      "execution_count": 13,
      "outputs": [
        {
          "output_type": "stream",
          "name": "stdout",
          "text": [
            "('cherry', 'orange', 'kiwi', 'melon', 'mango')\n"
          ]
        }
      ]
    },
    {
      "cell_type": "markdown",
      "source": [
        "# Range of Negative index\n",
        "Negative indexing starts from end of the list and accessing the range"
      ],
      "metadata": {
        "id": "BsA9cBB02TeE"
      }
    },
    {
      "cell_type": "code",
      "source": [
        "#return the items from index -4 (included) to index -1 (excluded)\n",
        "thistuple = (\"apple\", \"banana\", \"cherry\", \"orange\", \"kiwi\", \"melon\", \"mango\")\n",
        "print(thistuple[-4:-1])"
      ],
      "metadata": {
        "colab": {
          "base_uri": "https://localhost:8080/"
        },
        "id": "GeRKEeHf2tPU",
        "outputId": "04f92d4e-c743-4ea0-9f6f-46f15cb3ca38"
      },
      "execution_count": 17,
      "outputs": [
        {
          "output_type": "stream",
          "name": "stdout",
          "text": [
            "('orange', 'kiwi', 'melon')\n"
          ]
        }
      ]
    },
    {
      "cell_type": "markdown",
      "source": [
        "#Check if item in tuple\n",
        "**check if the element present in tuple using keyword 'in'**"
      ],
      "metadata": {
        "id": "AqlM0Zhr33PV"
      }
    },
    {
      "cell_type": "code",
      "source": [
        "# Check if \"apple\" present in tuple\n",
        "thistuple = (\"apple\", \"banana\", \"cherry\")\n",
        "if \"apple\" in thistuple:\n",
        "  print(\"Yes, apple is present\")"
      ],
      "metadata": {
        "colab": {
          "base_uri": "https://localhost:8080/"
        },
        "id": "kTjKUqV-3Kn5",
        "outputId": "781de4a0-df48-4321-9722-55ec6873d82e"
      },
      "execution_count": 20,
      "outputs": [
        {
          "output_type": "stream",
          "name": "stdout",
          "text": [
            "Yes, apple is present\n"
          ]
        }
      ]
    },
    {
      "cell_type": "code",
      "source": [
        "thistuple = (\"banana\", \"cherry\")\n",
        "for x in thistuple:\n",
        "  if x == 'apple':\n",
        "    print(\"present\")\n",
        "  else:\n",
        "    print(\"not present\")"
      ],
      "metadata": {
        "colab": {
          "base_uri": "https://localhost:8080/"
        },
        "id": "XCQEHDzy4tQJ",
        "outputId": "2c214ee5-b1ea-4a54-87a3-a54b28f2a2a2"
      },
      "execution_count": 24,
      "outputs": [
        {
          "output_type": "stream",
          "name": "stdout",
          "text": [
            "not present\n",
            "not present\n"
          ]
        }
      ]
    }
  ]
}