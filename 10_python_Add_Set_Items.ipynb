{
  "nbformat": 4,
  "nbformat_minor": 0,
  "metadata": {
    "colab": {
      "provenance": [],
      "authorship_tag": "ABX9TyMDiN0bGF83ZSlMAIsqrt1Q",
      "include_colab_link": true
    },
    "kernelspec": {
      "name": "python3",
      "display_name": "Python 3"
    },
    "language_info": {
      "name": "python"
    }
  },
  "cells": [
    {
      "cell_type": "markdown",
      "metadata": {
        "id": "view-in-github",
        "colab_type": "text"
      },
      "source": [
        "<a href=\"https://colab.research.google.com/github/Pushpalatha-H/py/blob/main/10_python_Add_Set_Items.ipynb\" target=\"_parent\"><img src=\"https://colab.research.google.com/assets/colab-badge.svg\" alt=\"Open In Colab\"/></a>"
      ]
    },
    {
      "cell_type": "markdown",
      "source": [
        "#Python - Add Set items\n",
        "**We cannot change elements in a set , but we can add the element to set by using add()**"
      ],
      "metadata": {
        "id": "X09W5G2ND3wi"
      }
    },
    {
      "cell_type": "markdown",
      "source": [
        "#Add items"
      ],
      "metadata": {
        "id": "0j1t4t4_JmDI"
      }
    },
    {
      "cell_type": "code",
      "execution_count": 3,
      "metadata": {
        "colab": {
          "base_uri": "https://localhost:8080/"
        },
        "id": "fzucfFu-Dtx6",
        "outputId": "8e8ef8b7-3906-4d7f-e371-806fe610a19a"
      },
      "outputs": [
        {
          "output_type": "stream",
          "name": "stdout",
          "text": [
            "{'orange', 'apple', 'cherry', 'banana'}\n"
          ]
        }
      ],
      "source": [
        "#Add an item to a set\n",
        "thisset = {\"apple\", \"banana\", \"cherry\"}\n",
        "thisset.add(\"orange\")\n",
        "print(thisset)"
      ]
    },
    {
      "cell_type": "markdown",
      "source": [
        "# Add Sets\n",
        "**To Add two sets, we can use update() method**"
      ],
      "metadata": {
        "id": "Hlg1WL3_JrJY"
      }
    },
    {
      "cell_type": "code",
      "source": [
        "#Add elements from tropical into thisset:\n",
        "\n",
        "thisset = {\"apple\", \"banana\", \"cherry\"}\n",
        "tropical = {\"pineapple\", \"mango\", \"papaya\"}\n",
        "\n",
        "thisset.update(tropical)\n",
        "print(thisset)"
      ],
      "metadata": {
        "colab": {
          "base_uri": "https://localhost:8080/"
        },
        "id": "ge0-SOJdJWpI",
        "outputId": "3235ec8f-2f9a-4ab3-c2a1-911d9962c350"
      },
      "execution_count": 6,
      "outputs": [
        {
          "output_type": "stream",
          "name": "stdout",
          "text": [
            "{'papaya', 'pineapple', 'mango', 'apple', 'cherry', 'banana'}\n"
          ]
        }
      ]
    },
    {
      "cell_type": "markdown",
      "source": [
        "#Add Any Iterable\n",
        "**The object in update method need not to be only set(), it can be any iterable list(), dict().**"
      ],
      "metadata": {
        "id": "eYOgsgsZK6fl"
      }
    },
    {
      "cell_type": "code",
      "source": [
        "thisset = {\"apple\", \"banana\", \"cherry\"}\n",
        "tropical = [\"pineapple\", \"mango\", \"papaya\"]\n",
        "\n",
        "thisset.update(tropical)\n",
        "print(thisset)"
      ],
      "metadata": {
        "colab": {
          "base_uri": "https://localhost:8080/"
        },
        "id": "KFzno0MdKsFT",
        "outputId": "c6a964eb-f3e0-4365-c635-0fc1900425d7"
      },
      "execution_count": 10,
      "outputs": [
        {
          "output_type": "stream",
          "name": "stdout",
          "text": [
            "{'apple', 'papaya', 'cherry', 'pineapple', 'banana', 'mango'}\n"
          ]
        }
      ]
    }
  ]
}