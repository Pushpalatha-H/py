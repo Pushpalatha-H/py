{
  "nbformat": 4,
  "nbformat_minor": 0,
  "metadata": {
    "colab": {
      "provenance": [],
      "authorship_tag": "ABX9TyOEsG99VHrK6Y5+wb8qCIBF",
      "include_colab_link": true
    },
    "kernelspec": {
      "name": "python3",
      "display_name": "Python 3"
    },
    "language_info": {
      "name": "python"
    }
  },
  "cells": [
    {
      "cell_type": "markdown",
      "metadata": {
        "id": "view-in-github",
        "colab_type": "text"
      },
      "source": [
        "<a href=\"https://colab.research.google.com/github/Pushpalatha-H/py/blob/main/8_python_sets.ipynb\" target=\"_parent\"><img src=\"https://colab.research.google.com/assets/colab-badge.svg\" alt=\"Open In Colab\"/></a>"
      ]
    },
    {
      "cell_type": "markdown",
      "source": [
        "#Python sets"
      ],
      "metadata": {
        "id": "tjDocVeiziis"
      }
    },
    {
      "cell_type": "markdown",
      "source": [
        "#Set\n",
        "**Set are used to store the values in curly braces { }.**\n",
        "\n",
        "**Sets are collection of elements which are un-ordered, un-changed, dont allow duplicates**"
      ],
      "metadata": {
        "id": "WCQEpleHz56K"
      }
    },
    {
      "cell_type": "markdown",
      "source": [
        "**Create a Set**"
      ],
      "metadata": {
        "id": "QYqEqBT60eif"
      }
    },
    {
      "cell_type": "code",
      "execution_count": 28,
      "metadata": {
        "colab": {
          "base_uri": "https://localhost:8080/"
        },
        "id": "TcMTeV_4zVvS",
        "outputId": "d20aa435-5eec-4376-c332-1b2bdbbaafbb"
      },
      "outputs": [
        {
          "output_type": "stream",
          "name": "stdout",
          "text": [
            "{'banana', 'apple', 'cherry'}\n"
          ]
        }
      ],
      "source": [
        "myset = {\"apple\", \"banana\", \"cherry\"}\n",
        "print(myset)"
      ]
    },
    {
      "cell_type": "markdown",
      "source": [
        "**Sets dont allow duplicates, duplicate values wil be ignored**"
      ],
      "metadata": {
        "id": "GqW-gA8p0-GL"
      }
    },
    {
      "cell_type": "code",
      "source": [
        "myset = {'apple','banana', 'cherry', 'apple'}         # ignored duplicate\n",
        "print(myset)"
      ],
      "metadata": {
        "colab": {
          "base_uri": "https://localhost:8080/"
        },
        "id": "RkEsoPwc0dnQ",
        "outputId": "b66c87e7-e3dc-4305-aa69-bcdd275a6fc5"
      },
      "execution_count": 29,
      "outputs": [
        {
          "output_type": "stream",
          "name": "stdout",
          "text": [
            "{'banana', 'apple', 'cherry'}\n"
          ]
        }
      ]
    },
    {
      "cell_type": "markdown",
      "source": [
        "**True and 1 are considered to be same value in sets. and are considered as duplicates.**"
      ],
      "metadata": {
        "id": "IIq2gnf-1Otv"
      }
    },
    {
      "cell_type": "code",
      "source": [
        "myset = {'apple', 'banana', 'cherry', True, 1}\n",
        "print(myset)"
      ],
      "metadata": {
        "colab": {
          "base_uri": "https://localhost:8080/"
        },
        "id": "SahRNVLU1hp2",
        "outputId": "195023b1-19c9-4c5f-ee22-7ebe75bef789"
      },
      "execution_count": 30,
      "outputs": [
        {
          "output_type": "stream",
          "name": "stdout",
          "text": [
            "{'banana', 'apple', 'cherry', True}\n"
          ]
        }
      ]
    },
    {
      "cell_type": "markdown",
      "source": [
        "**False and 0 are considered as same value in sets. and are considered as duplicates**"
      ],
      "metadata": {
        "id": "g_IO5nWO1sJ3"
      }
    },
    {
      "cell_type": "code",
      "source": [
        "myset = {'apple', 'cherry', False,True, 0}\n",
        "print(myset)"
      ],
      "metadata": {
        "colab": {
          "base_uri": "https://localhost:8080/"
        },
        "id": "jMJqsJ9514tX",
        "outputId": "e771569a-0e45-4595-8e6c-11c9cf567cfe"
      },
      "execution_count": 31,
      "outputs": [
        {
          "output_type": "stream",
          "name": "stdout",
          "text": [
            "{False, 'cherry', 'apple', True}\n"
          ]
        }
      ]
    },
    {
      "cell_type": "markdown",
      "source": [
        "#Get the length of the set\n",
        "**To determine how many elements are there in set we use len() function.**"
      ],
      "metadata": {
        "id": "2ZPIHaHV2TNj"
      }
    },
    {
      "cell_type": "code",
      "source": [
        "# Get the number of items a set has\n",
        "thisset = {\"apple\", \"banana\", \"cherry\"}\n",
        "print(len(thisset))"
      ],
      "metadata": {
        "colab": {
          "base_uri": "https://localhost:8080/"
        },
        "id": "gUxVzb322x2o",
        "outputId": "77b27aea-925f-4064-ce4f-2c90417497e5"
      },
      "execution_count": 32,
      "outputs": [
        {
          "output_type": "stream",
          "name": "stdout",
          "text": [
            "3\n"
          ]
        }
      ]
    },
    {
      "cell_type": "markdown",
      "source": [
        "#Set Items - Data Types\n",
        "**Set item can be of any data types it can be int, str, boolean**"
      ],
      "metadata": {
        "id": "Ip_mQb8w3KHp"
      }
    },
    {
      "cell_type": "code",
      "source": [
        "set1 = {\"apple\", \"banana\", \"cherry\"}\n",
        "set2 = {1, 2, 3}\n",
        "set3 = {True, False, True}\n",
        "print(set1)"
      ],
      "metadata": {
        "colab": {
          "base_uri": "https://localhost:8080/"
        },
        "id": "HwrYddcq3BWK",
        "outputId": "828eb59d-af8d-4939-c233-feae5fd8839d"
      },
      "execution_count": 33,
      "outputs": [
        {
          "output_type": "stream",
          "name": "stdout",
          "text": [
            "{'banana', 'apple', 'cherry'}\n"
          ]
        }
      ]
    },
    {
      "cell_type": "code",
      "source": [
        "print(set2)"
      ],
      "metadata": {
        "colab": {
          "base_uri": "https://localhost:8080/"
        },
        "id": "zIoIECDi4Wod",
        "outputId": "e06df9cc-f3ac-480e-98d7-0d903fd1f573"
      },
      "execution_count": 34,
      "outputs": [
        {
          "output_type": "stream",
          "name": "stdout",
          "text": [
            "{1, 2, 3}\n"
          ]
        }
      ]
    },
    {
      "cell_type": "code",
      "source": [
        "print(set3)"
      ],
      "metadata": {
        "colab": {
          "base_uri": "https://localhost:8080/"
        },
        "id": "uPPsjIRk4bRL",
        "outputId": "01420acb-0399-4ab0-bf29-73ea0ce546da"
      },
      "execution_count": 35,
      "outputs": [
        {
          "output_type": "stream",
          "name": "stdout",
          "text": [
            "{False, True}\n"
          ]
        }
      ]
    },
    {
      "cell_type": "code",
      "source": [
        "set = {\"apple\", 1, True, 30, 40}\n",
        "print(set)"
      ],
      "metadata": {
        "colab": {
          "base_uri": "https://localhost:8080/"
        },
        "id": "J2BcuX_x7JCn",
        "outputId": "0d874fbd-1ada-4601-9e28-91a207c0a301"
      },
      "execution_count": 36,
      "outputs": [
        {
          "output_type": "stream",
          "name": "stdout",
          "text": [
            "{40, 1, 'apple', 30}\n"
          ]
        }
      ]
    },
    {
      "cell_type": "markdown",
      "source": [
        "#type()\n",
        "**To identify which type the data is we use, type()**"
      ],
      "metadata": {
        "id": "Nc3t7_St7Z1Y"
      }
    },
    {
      "cell_type": "code",
      "source": [
        "set = {\"apple\", 1, True, 30, 40}\n",
        "print(type(set))"
      ],
      "metadata": {
        "colab": {
          "base_uri": "https://localhost:8080/"
        },
        "id": "PlASBWSR7m6H",
        "outputId": "b80a00dc-8a67-4b7e-e2f5-a4798f32fa68"
      },
      "execution_count": 37,
      "outputs": [
        {
          "output_type": "stream",
          "name": "stdout",
          "text": [
            "<class 'set'>\n"
          ]
        }
      ]
    }
  ]
}