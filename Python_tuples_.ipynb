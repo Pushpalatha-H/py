{
  "nbformat": 4,
  "nbformat_minor": 0,
  "metadata": {
    "colab": {
      "provenance": [],
      "authorship_tag": "ABX9TyPqQa/ePtYCjDMvpiHP2Jws",
      "include_colab_link": true
    },
    "kernelspec": {
      "name": "python3",
      "display_name": "Python 3"
    },
    "language_info": {
      "name": "python"
    }
  },
  "cells": [
    {
      "cell_type": "markdown",
      "metadata": {
        "id": "view-in-github",
        "colab_type": "text"
      },
      "source": [
        "<a href=\"https://colab.research.google.com/github/Pushpalatha-H/py/blob/main/Python_tuples_.ipynb\" target=\"_parent\"><img src=\"https://colab.research.google.com/assets/colab-badge.svg\" alt=\"Open In Colab\"/></a>"
      ]
    },
    {
      "cell_type": "markdown",
      "source": [
        "#Tuples\n",
        "**Tuple is a collection of elements which are ordered, unchangable, allow duplicates**"
      ],
      "metadata": {
        "id": "Jah94sTWHgoU"
      }
    },
    {
      "cell_type": "markdown",
      "source": [
        "**1. Create a tuple**"
      ],
      "metadata": {
        "id": "GfLYfe5FJD7S"
      }
    },
    {
      "cell_type": "code",
      "execution_count": null,
      "metadata": {
        "colab": {
          "base_uri": "https://localhost:8080/"
        },
        "id": "mtoNUEGMGlJA",
        "outputId": "e30eaf9e-1ab6-4450-97ef-e08fcca561df"
      },
      "outputs": [
        {
          "output_type": "stream",
          "name": "stdout",
          "text": [
            "('grapes', 'banana', 'apple')\n"
          ]
        }
      ],
      "source": [
        "# create a tuple\n",
        "thistuple = (\"grapes\", \"banana\", \"apple\")\n",
        "print(thistuple)"
      ]
    },
    {
      "cell_type": "markdown",
      "source": [
        "**2. Calculate how many items in tuple**"
      ],
      "metadata": {
        "id": "dycvgmCIJN41"
      }
    },
    {
      "cell_type": "code",
      "source": [
        "thistuple = (\"grapes\", \"banana\", \"apple\")\n",
        "print(len(thistuple))"
      ],
      "metadata": {
        "colab": {
          "base_uri": "https://localhost:8080/"
        },
        "id": "RFP4OfqNI2A0",
        "outputId": "a3535dac-82ed-400c-bec2-49063210be6d"
      },
      "execution_count": null,
      "outputs": [
        {
          "output_type": "stream",
          "name": "stdout",
          "text": [
            "3\n"
          ]
        }
      ]
    },
    {
      "cell_type": "markdown",
      "source": [
        "#3. Create a tuple with one item\n",
        "**To create a tuple with one item we should add , at the end otherwise it will be only str**"
      ],
      "metadata": {
        "id": "Mg0Tzk-aJkQ2"
      }
    },
    {
      "cell_type": "code",
      "source": [
        "tuple1 = (\"apple\")\n",
        "print(type(tuple))"
      ],
      "metadata": {
        "colab": {
          "base_uri": "https://localhost:8080/"
        },
        "id": "t33jcBg1Jdqm",
        "outputId": "dd3ef2fa-7951-4d29-e07b-f01259235af6"
      },
      "execution_count": null,
      "outputs": [
        {
          "output_type": "stream",
          "name": "stdout",
          "text": [
            "<class 'tuple'>\n"
          ]
        }
      ]
    },
    {
      "cell_type": "code",
      "source": [
        "tuple2 = (\"apple\",)\n",
        "print(type(tuple))"
      ],
      "metadata": {
        "colab": {
          "base_uri": "https://localhost:8080/"
        },
        "id": "Nhaut4oVJ2ai",
        "outputId": "de80a0d5-86ba-4aab-9713-7dae0cd9c90a"
      },
      "execution_count": null,
      "outputs": [
        {
          "output_type": "stream",
          "name": "stdout",
          "text": [
            "<class 'tuple'>\n"
          ]
        }
      ]
    },
    {
      "cell_type": "markdown",
      "source": [
        "#Tuple types\n",
        "**Tuple can be of any data types str, int, bool**"
      ],
      "metadata": {
        "id": "l4ZfriIHKvSq"
      }
    },
    {
      "cell_type": "markdown",
      "source": [
        "**str**"
      ],
      "metadata": {
        "id": "cVSl0B9cMHu6"
      }
    },
    {
      "cell_type": "code",
      "source": [
        "tuple1 = (\"apple\", \"bannana\", \"cherry\")\n",
        "print(type(tuple1))"
      ],
      "metadata": {
        "colab": {
          "base_uri": "https://localhost:8080/"
        },
        "id": "C9hEKg_QLSL-",
        "outputId": "c32e9eb1-9db9-4280-a022-eb1e84447e4f"
      },
      "execution_count": null,
      "outputs": [
        {
          "output_type": "stream",
          "name": "stdout",
          "text": [
            "<class 'tuple'>\n"
          ]
        }
      ]
    },
    {
      "cell_type": "markdown",
      "source": [
        "**int**"
      ],
      "metadata": {
        "id": "UiE6bgzGMKvF"
      }
    },
    {
      "cell_type": "code",
      "source": [
        "tuple2 = (34, 23, 45)\n",
        "print(type(tuple2))"
      ],
      "metadata": {
        "colab": {
          "base_uri": "https://localhost:8080/"
        },
        "id": "Yx3WjmCbLnrl",
        "outputId": "638b24ee-4fac-4a60-8972-054c67e2f4ab"
      },
      "execution_count": null,
      "outputs": [
        {
          "output_type": "stream",
          "name": "stdout",
          "text": [
            "<class 'tuple'>\n"
          ]
        }
      ]
    },
    {
      "cell_type": "markdown",
      "source": [
        "**bool**"
      ],
      "metadata": {
        "id": "gzK59YiMMQae"
      }
    },
    {
      "cell_type": "code",
      "source": [
        "tuple3 = (True, False)\n",
        "print(type(tuple3))"
      ],
      "metadata": {
        "colab": {
          "base_uri": "https://localhost:8080/"
        },
        "id": "HY29Xy4gLuOE",
        "outputId": "d97722dd-2b28-4110-f87e-b3e0ec502603"
      },
      "execution_count": null,
      "outputs": [
        {
          "output_type": "stream",
          "name": "stdout",
          "text": [
            "<class 'tuple'>\n"
          ]
        }
      ]
    },
    {
      "cell_type": "code",
      "source": [
        "tuple4 = (\"sis\" , 7, True)\n",
        "print(type(tuple))"
      ],
      "metadata": {
        "colab": {
          "base_uri": "https://localhost:8080/"
        },
        "id": "lxrIfA8-MB6N",
        "outputId": "1bf45c82-f32c-4f55-ddd3-f21f62d00628"
      },
      "execution_count": null,
      "outputs": [
        {
          "output_type": "stream",
          "name": "stdout",
          "text": [
            "<class 'tuple'>\n"
          ]
        }
      ]
    },
    {
      "cell_type": "markdown",
      "source": [
        "# 1. Access tuple\n",
        "**we can access tuple by refering to index numbers with inside square braces[ ]**"
      ],
      "metadata": {
        "id": "8KnkYPfGSVZE"
      }
    },
    {
      "cell_type": "code",
      "source": [
        "tuple = (\"Huge list\", \"litte lesser\")\n",
        "print(tuple[0])"
      ],
      "metadata": {
        "colab": {
          "base_uri": "https://localhost:8080/"
        },
        "id": "0Z-WKVdeSX-N",
        "outputId": "1c00499f-53d7-45ad-a916-69f44f4aed0a"
      },
      "execution_count": null,
      "outputs": [
        {
          "output_type": "stream",
          "name": "stdout",
          "text": [
            "Huge list\n"
          ]
        }
      ]
    },
    {
      "cell_type": "markdown",
      "source": [
        "**1. List : List is a set of elements that are ordered, changable, allow duplicates.**\n",
        "\n",
        "**2. Tuple: tuple are set of elements in which the elements are ordered, unchangable, allow duplicates**\n",
        "\n",
        "**3. Set: Set are the collections in which elements are un-ordered, un-changable, dont allow duplicates.**\n",
        "\n",
        "**4. Dictionary: Collection of elements which are ordered, changable, dont allow duplicate**"
      ],
      "metadata": {
        "id": "I_0Z3BQ6S7J0"
      }
    }
  ]
}