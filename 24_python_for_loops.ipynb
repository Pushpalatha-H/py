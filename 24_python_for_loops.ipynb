{
  "nbformat": 4,
  "nbformat_minor": 0,
  "metadata": {
    "colab": {
      "provenance": [],
      "authorship_tag": "ABX9TyPCJHrzpYW5DAblRxQnr0r7",
      "include_colab_link": true
    },
    "kernelspec": {
      "name": "python3",
      "display_name": "Python 3"
    },
    "language_info": {
      "name": "python"
    }
  },
  "cells": [
    {
      "cell_type": "markdown",
      "metadata": {
        "id": "view-in-github",
        "colab_type": "text"
      },
      "source": [
        "<a href=\"https://colab.research.google.com/github/Pushpalatha-H/py/blob/main/24_python_for_loops.ipynb\" target=\"_parent\"><img src=\"https://colab.research.google.com/assets/colab-badge.svg\" alt=\"Open In Colab\"/></a>"
      ]
    },
    {
      "cell_type": "markdown",
      "source": [
        "#Python for loop"
      ],
      "metadata": {
        "id": "CNBHXwIgKHit"
      }
    },
    {
      "cell_type": "markdown",
      "source": [
        "**for loop is used to iterate through the sequence (list, tuple, set, dict)**"
      ],
      "metadata": {
        "id": "p02RkQSIKMud"
      }
    },
    {
      "cell_type": "markdown",
      "source": [
        "Print each fruit in a fruit list:"
      ],
      "metadata": {
        "id": "cqSH_X6PKy18"
      }
    },
    {
      "cell_type": "code",
      "execution_count": null,
      "metadata": {
        "colab": {
          "base_uri": "https://localhost:8080/"
        },
        "id": "ln66YaOaJvZw",
        "outputId": "b5b35a37-26b2-4eae-d73b-6181d66aa7c9"
      },
      "outputs": [
        {
          "output_type": "stream",
          "name": "stdout",
          "text": [
            "apple\n",
            "banana\n",
            "cherry\n"
          ]
        }
      ],
      "source": [
        "fruits = [\"apple\", \"banana\", \"cherry\"]\n",
        "for x in fruits:\n",
        "  print(x)"
      ]
    },
    {
      "cell_type": "markdown",
      "source": [
        "#Looping through the string"
      ],
      "metadata": {
        "id": "TfXZyjg8LDea"
      }
    },
    {
      "cell_type": "code",
      "source": [
        "for x in \"banana\":\n",
        "  print(x)"
      ],
      "metadata": {
        "colab": {
          "base_uri": "https://localhost:8080/"
        },
        "id": "gMoD3dzMLABk",
        "outputId": "4ff653e9-5a3b-4d85-ec9f-549b29af9e23"
      },
      "execution_count": null,
      "outputs": [
        {
          "output_type": "stream",
          "name": "stdout",
          "text": [
            "b\n",
            "a\n",
            "n\n",
            "a\n",
            "n\n",
            "a\n"
          ]
        }
      ]
    },
    {
      "cell_type": "markdown",
      "source": [
        "#The break Statement\n",
        "**The break statement is used to stop the loop even when the condition is true**"
      ],
      "metadata": {
        "id": "fC2peD2iLegf"
      }
    },
    {
      "cell_type": "markdown",
      "source": [
        "Exit the loop when x is \"banana\":"
      ],
      "metadata": {
        "id": "GmSInp8FL2Og"
      }
    },
    {
      "cell_type": "code",
      "source": [
        "fruits = [\"apple\", \"banana\", \"cherry\"]       # stop the loop when x is banana\n",
        "for x in fruits:\n",
        "  print(x)\n",
        "  if x == 'banana':\n",
        "    break"
      ],
      "metadata": {
        "colab": {
          "base_uri": "https://localhost:8080/"
        },
        "id": "715pXHTKLidB",
        "outputId": "c9bbc23b-7cb3-4b7f-c769-59882287cce4"
      },
      "execution_count": null,
      "outputs": [
        {
          "output_type": "stream",
          "name": "stdout",
          "text": [
            "apple\n",
            "banana\n"
          ]
        }
      ]
    },
    {
      "cell_type": "markdown",
      "source": [
        "# The continue Statement\n",
        "**we can stop the current iteration and jump to the next statement**\n",
        "\n",
        "Do not print banana:"
      ],
      "metadata": {
        "id": "PLmRAA1uMj0U"
      }
    },
    {
      "cell_type": "code",
      "source": [
        "fruits = [\"apple\", \"banana\", \"cherry\"]\n",
        "for x in fruits:\n",
        "  if x == 'banana':\n",
        "    continue\n",
        "  print(x)"
      ],
      "metadata": {
        "colab": {
          "base_uri": "https://localhost:8080/"
        },
        "id": "1EKYQ41XqX31",
        "outputId": "9a9057cb-5afa-44c0-86aa-ae5ff84810b9"
      },
      "execution_count": null,
      "outputs": [
        {
          "output_type": "stream",
          "name": "stdout",
          "text": [
            "apple\n",
            "cherry\n"
          ]
        }
      ]
    },
    {
      "cell_type": "markdown",
      "source": [
        "# The range( ) Function\n",
        "**To loop through the code particular number of times we use range( ) function.**"
      ],
      "metadata": {
        "id": "CFumnt6qrf2r"
      }
    },
    {
      "cell_type": "markdown",
      "source": [
        "Using the range() function:"
      ],
      "metadata": {
        "id": "E0EgLJn_sAnH"
      }
    },
    {
      "cell_type": "code",
      "source": [
        "for i in range(6):\n",
        "  print(i)"
      ],
      "metadata": {
        "colab": {
          "base_uri": "https://localhost:8080/"
        },
        "id": "l170DyE_r1Jb",
        "outputId": "2283ca86-b049-4b03-e709-a9274ce8fab6"
      },
      "execution_count": null,
      "outputs": [
        {
          "output_type": "stream",
          "name": "stdout",
          "text": [
            "0\n",
            "1\n",
            "2\n",
            "3\n",
            "4\n",
            "5\n"
          ]
        }
      ]
    },
    {
      "cell_type": "markdown",
      "source": [
        "**Using the start parameter:**\n",
        "\n",
        "**we can use start parameter and end parameter to the range**"
      ],
      "metadata": {
        "id": "jvDahmp1sGvZ"
      }
    },
    {
      "cell_type": "code",
      "source": [
        "for x in range(2,6):\n",
        "  print(x)"
      ],
      "metadata": {
        "colab": {
          "base_uri": "https://localhost:8080/"
        },
        "id": "ZmuK0q3cr9Ij",
        "outputId": "10be36a0-8c33-4eb5-c520-a92ed83a781d"
      },
      "execution_count": null,
      "outputs": [
        {
          "output_type": "stream",
          "name": "stdout",
          "text": [
            "2\n",
            "3\n",
            "4\n",
            "5\n"
          ]
        }
      ]
    },
    {
      "cell_type": "markdown",
      "source": [
        "**In range functions sequence default sets itself to 1, but if we want we can set the sequence ourself**"
      ],
      "metadata": {
        "id": "-_nCHEBKsrxn"
      }
    },
    {
      "cell_type": "code",
      "source": [
        "# set the sequence to 3(default is 1)\n",
        "for i in range(2, 6, 3):\n",
        "  print(i)"
      ],
      "metadata": {
        "colab": {
          "base_uri": "https://localhost:8080/"
        },
        "id": "u33yTcZgsqKS",
        "outputId": "0833e749-1f43-4cf4-c34f-f22a71f2986f"
      },
      "execution_count": null,
      "outputs": [
        {
          "output_type": "stream",
          "name": "stdout",
          "text": [
            "2\n",
            "5\n"
          ]
        }
      ]
    },
    {
      "cell_type": "markdown",
      "source": [
        "# Else in For Loop\n",
        "**Else loop in for loop executed when previous condition is not true**\n",
        "\n",
        "Print all numbers from 0 to 5, and print a message when the loop has ended:"
      ],
      "metadata": {
        "id": "vWEfQbt9toRt"
      }
    },
    {
      "cell_type": "code",
      "source": [
        "for x in range(6):\n",
        "  print(x)\n",
        "else:\n",
        "  print(\"loop has ended\")"
      ],
      "metadata": {
        "colab": {
          "base_uri": "https://localhost:8080/"
        },
        "id": "zQXH7OkIuEOo",
        "outputId": "26b4e61c-7c5f-4f30-d508-c64eccae1ebf"
      },
      "execution_count": null,
      "outputs": [
        {
          "output_type": "stream",
          "name": "stdout",
          "text": [
            "0\n",
            "1\n",
            "2\n",
            "3\n",
            "4\n",
            "5\n",
            "loop has ended\n"
          ]
        }
      ]
    },
    {
      "cell_type": "markdown",
      "source": [
        "**Break the loop when x is 3, and see what happens with the else block:**"
      ],
      "metadata": {
        "id": "wygmuabnum-8"
      }
    },
    {
      "cell_type": "code",
      "source": [
        "for x in range(6):\n",
        "  if x == 3:\n",
        "    break\n",
        "  print(x)\n",
        "else:\n",
        "  print(\"Finally done\")"
      ],
      "metadata": {
        "colab": {
          "base_uri": "https://localhost:8080/"
        },
        "id": "ORCXOvBauoy_",
        "outputId": "a2e58ea1-3cdd-4506-d73c-1c82d96d7575"
      },
      "execution_count": null,
      "outputs": [
        {
          "output_type": "stream",
          "name": "stdout",
          "text": [
            "0\n",
            "1\n",
            "2\n"
          ]
        }
      ]
    },
    {
      "cell_type": "markdown",
      "source": [
        "# Nested Loops\n",
        "**One loop is a loop inside another loop**\n",
        "\n",
        "Print each adjective for every fruit:"
      ],
      "metadata": {
        "id": "NsGICIDWwtqo"
      }
    },
    {
      "cell_type": "code",
      "source": [
        "adj = [\"red\", \"big\", \"tasty\"]\n",
        "fruits = [\"apple\", \"banana\", \"cherry\"]\n",
        "\n",
        "for x in adj:\n",
        "  for y in fruits:\n",
        "    print(x, y)"
      ],
      "metadata": {
        "colab": {
          "base_uri": "https://localhost:8080/"
        },
        "id": "0fz-8VMkw9P4",
        "outputId": "350611de-9635-491e-8d81-ce4e562d730c"
      },
      "execution_count": null,
      "outputs": [
        {
          "output_type": "stream",
          "name": "stdout",
          "text": [
            "red apple\n",
            "red banana\n",
            "red cherry\n",
            "big apple\n",
            "big banana\n",
            "big cherry\n",
            "tasty apple\n",
            "tasty banana\n",
            "tasty cherry\n"
          ]
        }
      ]
    },
    {
      "cell_type": "markdown",
      "source": [
        "# The pass Statement\n",
        "**If we dont have anything to print inside we can use pass function to just run the code without getting error**"
      ],
      "metadata": {
        "id": "gcc4bwBZxQOV"
      }
    },
    {
      "cell_type": "code",
      "source": [
        "for x in [1, 2, 3]:\n",
        "  pass"
      ],
      "metadata": {
        "id": "W8evZCXfvaU1"
      },
      "execution_count": null,
      "outputs": []
    }
  ]
}