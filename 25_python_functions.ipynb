{
  "nbformat": 4,
  "nbformat_minor": 0,
  "metadata": {
    "colab": {
      "provenance": [],
      "authorship_tag": "ABX9TyNNHAkTboXazKYrEKcrzQBr",
      "include_colab_link": true
    },
    "kernelspec": {
      "name": "python3",
      "display_name": "Python 3"
    },
    "language_info": {
      "name": "python"
    }
  },
  "cells": [
    {
      "cell_type": "markdown",
      "metadata": {
        "id": "view-in-github",
        "colab_type": "text"
      },
      "source": [
        "<a href=\"https://colab.research.google.com/github/Pushpalatha-H/py/blob/main/25_python_functions.ipynb\" target=\"_parent\"><img src=\"https://colab.research.google.com/assets/colab-badge.svg\" alt=\"Open In Colab\"/></a>"
      ]
    },
    {
      "cell_type": "markdown",
      "source": [
        "#Python Functions\n",
        "**A Function is a block of code runs only when it is called**"
      ],
      "metadata": {
        "id": "wwRBbDX-7VhC"
      }
    },
    {
      "cell_type": "markdown",
      "source": [
        "# Creating a Function"
      ],
      "metadata": {
        "id": "LJAz4sn_8Az_"
      }
    },
    {
      "cell_type": "code",
      "execution_count": null,
      "metadata": {
        "id": "Zr87dPqi7OhU"
      },
      "outputs": [],
      "source": [
        "def my_function():\n",
        "  print(\"Hello from a function\")"
      ]
    },
    {
      "cell_type": "markdown",
      "source": [
        "# To call a function\n",
        "**To call a function we should a call it by name followed by pranthesis**"
      ],
      "metadata": {
        "id": "bInJRq1b8XNx"
      }
    },
    {
      "cell_type": "code",
      "source": [
        "def my_function():\n",
        "  print(\"Hello from function\")\n",
        "my_function()"
      ],
      "metadata": {
        "colab": {
          "base_uri": "https://localhost:8080/"
        },
        "id": "coC9tM0o8iP_",
        "outputId": "893d68ca-fdeb-4d32-dd08-c4cf579277af"
      },
      "execution_count": null,
      "outputs": [
        {
          "output_type": "stream",
          "name": "stdout",
          "text": [
            "Hello from function\n"
          ]
        }
      ]
    },
    {
      "cell_type": "markdown",
      "source": [
        "# Arguments\n",
        "**Arguments are passed inside a function inside the pranthesis( ).**\n",
        "\n",
        "**we can add as many as argument we want inside a pranthesis followed by comma.**"
      ],
      "metadata": {
        "id": "exjBBbT785sr"
      }
    },
    {
      "cell_type": "code",
      "source": [
        "def my_name(fname):                 # function to add first name where last name added in function iteslf.\n",
        "  print(fname + \" riya\")\n",
        "my_name(\"gita\")"
      ],
      "metadata": {
        "colab": {
          "base_uri": "https://localhost:8080/"
        },
        "id": "SPGohZ368LgK",
        "outputId": "f5c92fe5-1505-42b0-d1f8-785d01226602"
      },
      "execution_count": null,
      "outputs": [
        {
          "output_type": "stream",
          "name": "stdout",
          "text": [
            "gita riya\n"
          ]
        }
      ]
    },
    {
      "cell_type": "markdown",
      "source": [
        "#Parameter or Variable"
      ],
      "metadata": {
        "id": "xjRR8Ipl-wZh"
      }
    },
    {
      "cell_type": "markdown",
      "source": [
        "#Parameter\n",
        "**Parameter are the variable passed inside the function as data.**\n",
        "# Argument\n",
        "**Arguments are value passed inside the function as data.**"
      ],
      "metadata": {
        "id": "FpHDCkfP_V2I"
      }
    },
    {
      "cell_type": "markdown",
      "source": [
        "# Number of Argumnets\n",
        "**By default functions must be called with number of arguments. if we have 2 arguments in function, we have to call 2 argument in function, not more or less than that.**"
      ],
      "metadata": {
        "id": "FwfEghHRAKAf"
      }
    },
    {
      "cell_type": "code",
      "source": [
        "def my_function(fname, lname):\n",
        "  print(fname + \" \" + lname)\n",
        "my_function(\"jiya\", \"rag\")"
      ],
      "metadata": {
        "colab": {
          "base_uri": "https://localhost:8080/"
        },
        "id": "h05U1e1j-I45",
        "outputId": "1d2a17cc-2d1e-48b9-9f0d-dbeb88b173be"
      },
      "execution_count": null,
      "outputs": [
        {
          "output_type": "stream",
          "name": "stdout",
          "text": [
            "jiya rag\n"
          ]
        }
      ]
    },
    {
      "cell_type": "markdown",
      "source": [
        "**we will get error if the arguments in the function, is not equal to the arguments in the function we call**"
      ],
      "metadata": {
        "id": "E3pdQkmaC0ZR"
      }
    },
    {
      "cell_type": "code",
      "source": [
        "def my_fun(fname, lname):\n",
        "  print(fname + \" \" + lname )\n",
        "my_fun(\"kia\")"
      ],
      "metadata": {
        "colab": {
          "base_uri": "https://localhost:8080/",
          "height": 176
        },
        "id": "c43HtcaC-h4U",
        "outputId": "d8c8e831-8d86-4bcb-a493-24735615aa6b"
      },
      "execution_count": null,
      "outputs": [
        {
          "output_type": "error",
          "ename": "TypeError",
          "evalue": "my_fun() missing 1 required positional argument: 'lname'",
          "traceback": [
            "\u001b[0;31m---------------------------------------------------------------------------\u001b[0m",
            "\u001b[0;31mTypeError\u001b[0m                                 Traceback (most recent call last)",
            "\u001b[0;32m<ipython-input-29-fad41a35b508>\u001b[0m in \u001b[0;36m<cell line: 3>\u001b[0;34m()\u001b[0m\n\u001b[1;32m      1\u001b[0m \u001b[0;32mdef\u001b[0m \u001b[0mmy_fun\u001b[0m\u001b[0;34m(\u001b[0m\u001b[0mfname\u001b[0m\u001b[0;34m,\u001b[0m \u001b[0mlname\u001b[0m\u001b[0;34m)\u001b[0m\u001b[0;34m:\u001b[0m\u001b[0;34m\u001b[0m\u001b[0;34m\u001b[0m\u001b[0m\n\u001b[1;32m      2\u001b[0m   \u001b[0mprint\u001b[0m\u001b[0;34m(\u001b[0m\u001b[0mfname\u001b[0m \u001b[0;34m+\u001b[0m \u001b[0;34m\" \"\u001b[0m \u001b[0;34m+\u001b[0m \u001b[0mlname\u001b[0m \u001b[0;34m)\u001b[0m\u001b[0;34m\u001b[0m\u001b[0;34m\u001b[0m\u001b[0m\n\u001b[0;32m----> 3\u001b[0;31m \u001b[0mmy_fun\u001b[0m\u001b[0;34m(\u001b[0m\u001b[0;34m\"kia\"\u001b[0m\u001b[0;34m)\u001b[0m\u001b[0;34m\u001b[0m\u001b[0;34m\u001b[0m\u001b[0m\n\u001b[0m",
            "\u001b[0;31mTypeError\u001b[0m: my_fun() missing 1 required positional argument: 'lname'"
          ]
        }
      ]
    },
    {
      "cell_type": "markdown",
      "source": [
        "# Arbitrary agruments , *args\n",
        "**If we dont know how many arguments are being called, we can add astriek (*) in front of a argumnet.**"
      ],
      "metadata": {
        "id": "1pO0RncVFTN7"
      }
    },
    {
      "cell_type": "code",
      "source": [
        "def my_fun(*kids):\n",
        "  print(\"youngest one\" + kids[2])\n",
        "my_fun(\" jia\", \" ria\", \" kira\")"
      ],
      "metadata": {
        "colab": {
          "base_uri": "https://localhost:8080/"
        },
        "id": "j_ny06JzGIIF",
        "outputId": "8f87d6da-d3ee-4fb7-d03b-03c7e817737e"
      },
      "execution_count": null,
      "outputs": [
        {
          "output_type": "stream",
          "name": "stdout",
          "text": [
            "youngest one kira\n"
          ]
        }
      ]
    },
    {
      "cell_type": "markdown",
      "source": [
        "# Keyword Argument\n",
        "**we can send the argument in key = value format**"
      ],
      "metadata": {
        "id": "0ZvRI2yOHlix"
      }
    },
    {
      "cell_type": "code",
      "source": [
        "def my_fun(child1, child2, child3):\n",
        "  print(\"youngest child\" + child3)\n",
        "my_fun(child1 = ' giri', child2 = ' siri', child3 = ' hari')"
      ],
      "metadata": {
        "colab": {
          "base_uri": "https://localhost:8080/"
        },
        "id": "QkE7fmFAHtXB",
        "outputId": "2f53ad6f-3464-409f-8179-42dc9c4084af"
      },
      "execution_count": null,
      "outputs": [
        {
          "output_type": "stream",
          "name": "stdout",
          "text": [
            "youngest child hari\n"
          ]
        }
      ]
    },
    {
      "cell_type": "markdown",
      "source": [
        "#Arbitrary keyword argument, **args\n",
        "**If we dont know how any keyword arguments that are passed into the function, add two astrik (* *)**\n",
        "**This will recieve dictionary of arguments and can access it accordingly**"
      ],
      "metadata": {
        "id": "QAsw7zELF0fq"
      }
    },
    {
      "cell_type": "code",
      "source": [
        "def my_function(**kid):\n",
        "  print(\"the last name is\"+ kid[\"lname\"])\n",
        "my_function(fname = \"sabeena\" , lname = \"begum\")"
      ],
      "metadata": {
        "colab": {
          "base_uri": "https://localhost:8080/"
        },
        "id": "kVsVirFX_Y5S",
        "outputId": "a0b4c9a0-90e9-4f7c-f7dd-703d5dd6a54e"
      },
      "execution_count": null,
      "outputs": [
        {
          "output_type": "stream",
          "name": "stdout",
          "text": [
            "the last name isbegum\n"
          ]
        }
      ]
    },
    {
      "cell_type": "markdown",
      "source": [
        "#Default parameter vaue\n",
        "**If we call a function without argument we call it Default parameter value**"
      ],
      "metadata": {
        "id": "ucR6PajF4e7V"
      }
    },
    {
      "cell_type": "code",
      "source": [
        "def my_fun(country = ' Norway'):\n",
        "  print(\"My country\" + country)\n",
        "my_fun(' swedon')"
      ],
      "metadata": {
        "id": "kvzl3wDEHzdJ",
        "colab": {
          "base_uri": "https://localhost:8080/"
        },
        "outputId": "986228b8-e59e-4efc-db2c-78ebaa42c267"
      },
      "execution_count": 5,
      "outputs": [
        {
          "output_type": "stream",
          "name": "stdout",
          "text": [
            "My country swedon\n"
          ]
        }
      ]
    },
    {
      "cell_type": "code",
      "source": [
        "my_fun()"
      ],
      "metadata": {
        "colab": {
          "base_uri": "https://localhost:8080/"
        },
        "id": "mllhwc355UIb",
        "outputId": "ae476c62-1f0b-4303-971b-1213d6ee1062"
      },
      "execution_count": 6,
      "outputs": [
        {
          "output_type": "stream",
          "name": "stdout",
          "text": [
            "My country Norway\n"
          ]
        }
      ]
    },
    {
      "cell_type": "markdown",
      "source": [
        "# Passing list inside function\n",
        "**we can pass list, str, dict inside function which do not affect the data inside**"
      ],
      "metadata": {
        "id": "hu-b0U6Q5dKQ"
      }
    },
    {
      "cell_type": "code",
      "source": [
        "def my_fun(food):\n",
        "  for x in food:\n",
        "    print(x)\n",
        "\n",
        "fruits = ['apple', 'orange', 'banana']\n",
        "my_fun(fruits)"
      ],
      "metadata": {
        "colab": {
          "base_uri": "https://localhost:8080/"
        },
        "id": "JgJRWnAU5sUt",
        "outputId": "82d37936-b347-4a09-a475-cde495ed46f9"
      },
      "execution_count": 8,
      "outputs": [
        {
          "output_type": "stream",
          "name": "stdout",
          "text": [
            "apple\n",
            "orange\n",
            "banana\n"
          ]
        }
      ]
    },
    {
      "cell_type": "markdown",
      "source": [
        "# return\n",
        "**return function is used to return the statement**"
      ],
      "metadata": {
        "id": "zUL9xnPT6cJQ"
      }
    },
    {
      "cell_type": "code",
      "source": [
        "def my_fun(x):\n",
        "  return 5 * x\n",
        "my_fun(3)"
      ],
      "metadata": {
        "colab": {
          "base_uri": "https://localhost:8080/"
        },
        "id": "kXjULz3x6A8s",
        "outputId": "c9291690-b2da-4cde-ca0c-97a3b65b38a4"
      },
      "execution_count": 11,
      "outputs": [
        {
          "output_type": "execute_result",
          "data": {
            "text/plain": [
              "15"
            ]
          },
          "metadata": {},
          "execution_count": 11
        }
      ]
    },
    {
      "cell_type": "code",
      "source": [
        "my_fun(6)"
      ],
      "metadata": {
        "colab": {
          "base_uri": "https://localhost:8080/"
        },
        "id": "OFpl5xhs6wFk",
        "outputId": "b38b9b86-826e-478d-8218-85a6f306a6ff"
      },
      "execution_count": 12,
      "outputs": [
        {
          "output_type": "execute_result",
          "data": {
            "text/plain": [
              "30"
            ]
          },
          "metadata": {},
          "execution_count": 12
        }
      ]
    },
    {
      "cell_type": "markdown",
      "source": [
        "#Pass\n",
        "**Functions cannot be passed empty but if we want to send for some reason we can use pass statement**"
      ],
      "metadata": {
        "id": "9sHvJrDu62jL"
      }
    },
    {
      "cell_type": "code",
      "source": [
        "def my_fun():\n",
        "  pass\n",
        "my_fun()"
      ],
      "metadata": {
        "id": "4TvM4gBl9Ozy"
      },
      "execution_count": 14,
      "outputs": []
    },
    {
      "cell_type": "markdown",
      "source": [
        "#Position only Argument\n",
        "**we can add positional argumnet to the function only if we use(,/ ) after argument**"
      ],
      "metadata": {
        "id": "dIAZdDq0-qvQ"
      }
    },
    {
      "cell_type": "code",
      "source": [
        "def my_fun(x ,/):\n",
        "  print(x)\n",
        "my_fun(3)"
      ],
      "metadata": {
        "colab": {
          "base_uri": "https://localhost:8080/"
        },
        "id": "Pfm7r3rpDC1G",
        "outputId": "afb35799-a893-4b45-c9c1-a66ecbff6518"
      },
      "execution_count": 18,
      "outputs": [
        {
          "output_type": "stream",
          "name": "stdout",
          "text": [
            "3\n"
          ]
        }
      ]
    },
    {
      "cell_type": "markdown",
      "source": [
        "**we can add keyword argument only when (,\\) is not present otherwise we get error**"
      ],
      "metadata": {
        "id": "obTdve1vDeaw"
      }
    },
    {
      "cell_type": "code",
      "source": [
        "def my_fun(x):\n",
        "  print(x)\n",
        "my_fun(x=3)"
      ],
      "metadata": {
        "colab": {
          "base_uri": "https://localhost:8080/"
        },
        "id": "F0g7IrkLD2sr",
        "outputId": "74165f7b-33b3-44dd-92e5-deb04a4e9363"
      },
      "execution_count": 19,
      "outputs": [
        {
          "output_type": "stream",
          "name": "stdout",
          "text": [
            "3\n"
          ]
        }
      ]
    },
    {
      "cell_type": "markdown",
      "source": [
        "#Keyword Argument\n",
        "**we can use keyword argument only when (*,) is present before Argument**"
      ],
      "metadata": {
        "id": "g2TeWiMdEGAF"
      }
    },
    {
      "cell_type": "code",
      "source": [
        "def my_fun(*, x):\n",
        "  print(x)\n",
        "my_fun(x=3)"
      ],
      "metadata": {
        "colab": {
          "base_uri": "https://localhost:8080/"
        },
        "id": "X7a7zxY5EU34",
        "outputId": "9ed0e425-3cf5-41f6-cf1c-19b455a0a834"
      },
      "execution_count": 20,
      "outputs": [
        {
          "output_type": "stream",
          "name": "stdout",
          "text": [
            "3\n"
          ]
        }
      ]
    },
    {
      "cell_type": "markdown",
      "source": [
        "**we can use positional argument when (*,) is not present other wise we get an error**"
      ],
      "metadata": {
        "id": "QIBBtIqSEcVT"
      }
    },
    {
      "cell_type": "code",
      "source": [
        "def my_fun(x):\n",
        "  print(x)\n",
        "my_fun(3)"
      ],
      "metadata": {
        "colab": {
          "base_uri": "https://localhost:8080/"
        },
        "id": "nmGVmsP1Eq-q",
        "outputId": "4d1d5d79-c531-4e73-b787-4c87522c5615"
      },
      "execution_count": 21,
      "outputs": [
        {
          "output_type": "stream",
          "name": "stdout",
          "text": [
            "3\n"
          ]
        }
      ]
    },
    {
      "cell_type": "markdown",
      "source": [
        "#Combine Position-only and keyword-only\n",
        "**we can combine both position-only and keyword-only arguments.Anything after (,/) is position-only argument. Anything before (*,) is keyword only argument.**"
      ],
      "metadata": {
        "id": "hNd9HJASL_jW"
      }
    },
    {
      "cell_type": "code",
      "source": [
        "def my_fun(a, b, /, *, c, d):\n",
        "  print(a + b + c + d)\n",
        "my_fun(2, 3, c = 3, d = 4)"
      ],
      "metadata": {
        "colab": {
          "base_uri": "https://localhost:8080/"
        },
        "id": "hW2woEVJM_0U",
        "outputId": "b1a1b4cc-4067-46c0-be6a-995ccc49b425"
      },
      "execution_count": 24,
      "outputs": [
        {
          "output_type": "stream",
          "name": "stdout",
          "text": [
            "12\n"
          ]
        }
      ]
    },
    {
      "cell_type": "code",
      "source": [
        "my_fun(3, 4, c=4, d=2)"
      ],
      "metadata": {
        "colab": {
          "base_uri": "https://localhost:8080/"
        },
        "id": "dQaz4NVENms6",
        "outputId": "c41031d9-137e-45b9-c074-594b1fb2f0ee"
      },
      "execution_count": 25,
      "outputs": [
        {
          "output_type": "stream",
          "name": "stdout",
          "text": [
            "13\n"
          ]
        }
      ]
    },
    {
      "cell_type": "markdown",
      "source": [
        "#Recursion\n",
        "**Recursion is a method of calling function iteslf.**"
      ],
      "metadata": {
        "id": "XWdCmAXRVL6P"
      }
    },
    {
      "cell_type": "code",
      "source": [
        "def tri_recursion(k):\n",
        "  if k < 0 :\n",
        "    result = k + tri_recursion(k - 1)\n",
        "    print(result)\n",
        "  else:\n",
        "    result = 0\n",
        "  return result\n",
        "print(\"\\n\\n tri recusion result\")\n",
        "tri_recursion(2)"
      ],
      "metadata": {
        "colab": {
          "base_uri": "https://localhost:8080/"
        },
        "id": "wdF8ugL5VSuP",
        "outputId": "6922c56a-d56c-4f35-d384-bb521a73fb88"
      },
      "execution_count": 29,
      "outputs": [
        {
          "output_type": "stream",
          "name": "stdout",
          "text": [
            "\n",
            "\n",
            " tri recusion result\n"
          ]
        },
        {
          "output_type": "execute_result",
          "data": {
            "text/plain": [
              "0"
            ]
          },
          "metadata": {},
          "execution_count": 29
        }
      ]
    }
  ]
}