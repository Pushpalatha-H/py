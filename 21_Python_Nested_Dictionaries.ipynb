{
  "nbformat": 4,
  "nbformat_minor": 0,
  "metadata": {
    "colab": {
      "provenance": [],
      "authorship_tag": "ABX9TyOCtkrdY9YysLHAJoubakwa",
      "include_colab_link": true
    },
    "kernelspec": {
      "name": "python3",
      "display_name": "Python 3"
    },
    "language_info": {
      "name": "python"
    }
  },
  "cells": [
    {
      "cell_type": "markdown",
      "metadata": {
        "id": "view-in-github",
        "colab_type": "text"
      },
      "source": [
        "<a href=\"https://colab.research.google.com/github/Pushpalatha-H/py/blob/main/21_Python_Nested_Dictionaries.ipynb\" target=\"_parent\"><img src=\"https://colab.research.google.com/assets/colab-badge.svg\" alt=\"Open In Colab\"/></a>"
      ]
    },
    {
      "cell_type": "markdown",
      "source": [
        "#Python Nested Dictionaries"
      ],
      "metadata": {
        "id": "H3g5Lo1ZeQC9"
      }
    },
    {
      "cell_type": "markdown",
      "source": [
        "**A dictionary contains dictionaries, called Nested Dictionaries.**"
      ],
      "metadata": {
        "id": "NnZk6FYHfCrl"
      }
    },
    {
      "cell_type": "markdown",
      "source": [
        "Create a dictionary that contains three dictionaries"
      ],
      "metadata": {
        "id": "Kx0ugOeEgIAc"
      }
    },
    {
      "cell_type": "code",
      "source": [
        "myfamily = {\n",
        "    'child1' : {\n",
        "        'name' : 'lilly',\n",
        "        'age' : 5\n",
        "    },\n",
        "    'child2' : {\n",
        "        'name' : 'sofy',\n",
        "        'age' : 3\n",
        "    },\n",
        "    'child3' : {\n",
        "        'name' : 'dizy',\n",
        "        'age' : 2\n",
        "    }\n",
        "}\n",
        "print(myfamily)"
      ],
      "metadata": {
        "colab": {
          "base_uri": "https://localhost:8080/"
        },
        "id": "jBaMv2D4eYrl",
        "outputId": "d9d1eaf7-aaaa-4ff7-eff5-8148ad75d9e3"
      },
      "execution_count": 3,
      "outputs": [
        {
          "output_type": "stream",
          "name": "stdout",
          "text": [
            "{'child1': {'name': 'lilly', 'age': 5}, 'child2': {'name': 'sofy', 'age': 3}, 'child3': {'name': 'dizy', 'age': 2}}\n"
          ]
        }
      ]
    },
    {
      "cell_type": "markdown",
      "source": [
        "**Create 3 dictionaries and then add it to another dictionary**"
      ],
      "metadata": {
        "id": "9T2udfLfgFpY"
      }
    },
    {
      "cell_type": "code",
      "source": [
        "child1 = {\n",
        "    'name' : 'lilly',\n",
        "    'age' : 5\n",
        "}\n",
        "child2 = {\n",
        "    'name' : 'sofy',\n",
        "    'age' : 3\n",
        "}\n",
        "child3 = {\n",
        "    'name' : 'dizy',\n",
        "    'age' : 2\n",
        "}\n",
        "\n",
        "myfamily = {\n",
        "    'child1' : child1,\n",
        "    'child2' : child2,\n",
        "    'child3' : child3\n",
        "}\n",
        "print(myfamily)"
      ],
      "metadata": {
        "colab": {
          "base_uri": "https://localhost:8080/"
        },
        "id": "aPM0bTawgZNP",
        "outputId": "0054345a-5d32-489d-8f0c-64171c59e203"
      },
      "execution_count": 6,
      "outputs": [
        {
          "output_type": "stream",
          "name": "stdout",
          "text": [
            "{'child1': {'name': 'lilly', 'age': 5}, 'child2': {'name': 'sofy', 'age': 3}, 'child3': {'name': 'dizy', 'age': 2}}\n"
          ]
        }
      ]
    },
    {
      "cell_type": "markdown",
      "source": [
        "# Access Items in Nested Dictionaries"
      ],
      "metadata": {
        "id": "szrB4KEEhk3v"
      }
    },
    {
      "cell_type": "markdown",
      "source": [
        "To get access from the nested dictionaries , you use name of the dictionaries, then outer dictionaries."
      ],
      "metadata": {
        "id": "hkE11MnShyMY"
      }
    },
    {
      "cell_type": "markdown",
      "source": [
        "**Print name of child2**"
      ],
      "metadata": {
        "id": "NNDcKi_WiPfR"
      }
    },
    {
      "cell_type": "code",
      "source": [
        "print(myfamily['child2']['name'])"
      ],
      "metadata": {
        "colab": {
          "base_uri": "https://localhost:8080/"
        },
        "id": "gxZXYV1jhmbt",
        "outputId": "ae9f75d6-d8a4-4f5c-e4a5-9043309db2ca"
      },
      "execution_count": 7,
      "outputs": [
        {
          "output_type": "stream",
          "name": "stdout",
          "text": [
            "sofy\n"
          ]
        }
      ]
    },
    {
      "cell_type": "markdown",
      "source": [
        "#Loop Through Nested Dictionaries\n"
      ],
      "metadata": {
        "id": "7Zj8v2AtiXhI"
      }
    },
    {
      "cell_type": "code",
      "source": [
        "for x, obj in myfamily.items():\n",
        "  print(x)\n",
        "  for y in obj:\n",
        "    print(y+ \":\", obj[y])"
      ],
      "metadata": {
        "colab": {
          "base_uri": "https://localhost:8080/"
        },
        "id": "9OsXAqyainKL",
        "outputId": "6e3f1228-2d3d-4842-92d9-dcb376948186"
      },
      "execution_count": 12,
      "outputs": [
        {
          "output_type": "stream",
          "name": "stdout",
          "text": [
            "child1\n",
            "name: lilly\n",
            "age: 5\n",
            "child2\n",
            "name: sofy\n",
            "age: 3\n",
            "child3\n",
            "name: dizy\n",
            "age: 2\n"
          ]
        }
      ]
    }
  ]
}