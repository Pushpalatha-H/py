{
  "nbformat": 4,
  "nbformat_minor": 0,
  "metadata": {
    "colab": {
      "provenance": [],
      "authorship_tag": "ABX9TyOlwOSisJZiHc5+Qsy5emOZ",
      "include_colab_link": true
    },
    "kernelspec": {
      "name": "python3",
      "display_name": "Python 3"
    },
    "language_info": {
      "name": "python"
    }
  },
  "cells": [
    {
      "cell_type": "markdown",
      "metadata": {
        "id": "view-in-github",
        "colab_type": "text"
      },
      "source": [
        "<a href=\"https://colab.research.google.com/github/Pushpalatha-H/py/blob/main/26_python_lambda.ipynb\" target=\"_parent\"><img src=\"https://colab.research.google.com/assets/colab-badge.svg\" alt=\"Open In Colab\"/></a>"
      ]
    },
    {
      "cell_type": "markdown",
      "source": [
        "#Python Lambda Function\n",
        "**Lambda function may take many arguments but it can have only one expression**\n",
        "\n",
        "lambda arguments : expression"
      ],
      "metadata": {
        "id": "JzaaErSl5Ilf"
      }
    },
    {
      "cell_type": "markdown",
      "source": [
        "**Add 10 to argument a, and return the result:**"
      ],
      "metadata": {
        "id": "EFrOMNCj5viQ"
      }
    },
    {
      "cell_type": "code",
      "execution_count": 1,
      "metadata": {
        "colab": {
          "base_uri": "https://localhost:8080/"
        },
        "id": "RlbWKCIo5CcY",
        "outputId": "bb2835bc-8037-4761-f46f-6b7bdca68669"
      },
      "outputs": [
        {
          "output_type": "stream",
          "name": "stdout",
          "text": [
            "50\n"
          ]
        }
      ],
      "source": [
        "x = lambda a: a * 10\n",
        "print(x(5))"
      ]
    },
    {
      "cell_type": "markdown",
      "source": [
        "# lambda function can take number of arguments"
      ],
      "metadata": {
        "id": "n965PD7_GhAZ"
      }
    },
    {
      "cell_type": "markdown",
      "source": [
        "**multiply a and b and return results**\n",
        "\n",
        "---\n",
        "\n"
      ],
      "metadata": {
        "id": "EPcrClPvC4GQ"
      }
    },
    {
      "cell_type": "code",
      "source": [
        "x = lambda a, b : a * b\n",
        "print(x(5,6))"
      ],
      "metadata": {
        "colab": {
          "base_uri": "https://localhost:8080/"
        },
        "id": "P64DuYF7C-ZV",
        "outputId": "ce50a1ef-1e9e-45c3-9dca-ddeb4b7f860b"
      },
      "execution_count": 2,
      "outputs": [
        {
          "output_type": "stream",
          "name": "stdout",
          "text": [
            "30\n"
          ]
        }
      ]
    },
    {
      "cell_type": "markdown",
      "source": [
        "**summarize a, b, c and return results**"
      ],
      "metadata": {
        "id": "XE3i9XSeDGhQ"
      }
    },
    {
      "cell_type": "code",
      "source": [
        "x = lambda a, b, c : a + b+ c\n",
        "print(x(3, 4, 5))"
      ],
      "metadata": {
        "colab": {
          "base_uri": "https://localhost:8080/"
        },
        "id": "j5JhbXq9DN5q",
        "outputId": "a05bfe03-73e0-455e-d0a3-999a392856fa"
      },
      "execution_count": 3,
      "outputs": [
        {
          "output_type": "stream",
          "name": "stdout",
          "text": [
            "12\n"
          ]
        }
      ]
    },
    {
      "cell_type": "markdown",
      "source": [
        "**lambda function works better when you use them inside some other anayomous function**\n"
      ],
      "metadata": {
        "id": "f-XOfzAaJ92N"
      }
    },
    {
      "cell_type": "code",
      "source": [
        "def my_fun(n):\n",
        "  return lambda a : a * n"
      ],
      "metadata": {
        "id": "BBm1TFGILDOP"
      },
      "execution_count": 37,
      "outputs": []
    },
    {
      "cell_type": "markdown",
      "source": [
        "**Use that function definition to make a function that always doubles the number you send in:**"
      ],
      "metadata": {
        "id": "d-a-XjyWNhGn"
      }
    },
    {
      "cell_type": "code",
      "source": [
        "def my_fun(n):\n",
        "  return lambda a: a * n\n",
        "\n",
        "my_doubler = my_fun(2)\n",
        "\n",
        "print(my_doubler(11))"
      ],
      "metadata": {
        "colab": {
          "base_uri": "https://localhost:8080/"
        },
        "id": "CWHYD0BrNi8K",
        "outputId": "f9c4d380-7688-4035-aac9-f16f46cd605f"
      },
      "execution_count": 49,
      "outputs": [
        {
          "output_type": "stream",
          "name": "stdout",
          "text": [
            "22\n"
          ]
        }
      ]
    },
    {
      "cell_type": "markdown",
      "source": [
        "**use the same function definition to make a function that always triples the number you send in**"
      ],
      "metadata": {
        "id": "8nd_jCBPQkjW"
      }
    },
    {
      "cell_type": "code",
      "source": [
        "def my_fun(n):\n",
        "  return lambda a : a * n\n",
        "\n",
        "my_tripler = my_fun(3)\n",
        "\n",
        "print(my_tripler(11))"
      ],
      "metadata": {
        "colab": {
          "base_uri": "https://localhost:8080/"
        },
        "id": "rJ2gCLayQpUW",
        "outputId": "487a4f38-0646-411c-e327-1cac41cdf762"
      },
      "execution_count": 52,
      "outputs": [
        {
          "output_type": "stream",
          "name": "stdout",
          "text": [
            "33\n"
          ]
        }
      ]
    },
    {
      "cell_type": "markdown",
      "source": [
        "**Or, use the same function definition to make both functions, in the same program:**"
      ],
      "metadata": {
        "id": "05QPfx_wRA3l"
      }
    },
    {
      "cell_type": "code",
      "source": [
        "def my_fun(n):\n",
        "  return lambda a : a * n\n",
        "\n",
        "my_doubler= my_fun(2)\n",
        "my_tribler = my_fun(3)\n",
        "\n",
        "print(my_doubler(11))"
      ],
      "metadata": {
        "colab": {
          "base_uri": "https://localhost:8080/"
        },
        "id": "ByMU_qMYRCRd",
        "outputId": "181e9539-979f-435c-bed8-11e3f3c4df0a"
      },
      "execution_count": 54,
      "outputs": [
        {
          "output_type": "stream",
          "name": "stdout",
          "text": [
            "22\n"
          ]
        }
      ]
    },
    {
      "cell_type": "code",
      "source": [
        "print(my_tribler(11))"
      ],
      "metadata": {
        "colab": {
          "base_uri": "https://localhost:8080/"
        },
        "id": "5Y-qK0wIRRJu",
        "outputId": "d10c69f5-bbec-40f3-af56-045d1033f82c"
      },
      "execution_count": 55,
      "outputs": [
        {
          "output_type": "stream",
          "name": "stdout",
          "text": [
            "33\n"
          ]
        }
      ]
    }
  ]
}