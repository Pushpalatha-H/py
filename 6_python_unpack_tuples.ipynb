{
  "nbformat": 4,
  "nbformat_minor": 0,
  "metadata": {
    "colab": {
      "provenance": [],
      "authorship_tag": "ABX9TyNEuY0PUUA3bX7fKoh4lIzM",
      "include_colab_link": true
    },
    "kernelspec": {
      "name": "python3",
      "display_name": "Python 3"
    },
    "language_info": {
      "name": "python"
    }
  },
  "cells": [
    {
      "cell_type": "markdown",
      "metadata": {
        "id": "view-in-github",
        "colab_type": "text"
      },
      "source": [
        "<a href=\"https://colab.research.google.com/github/Pushpalatha-H/py/blob/main/6_python_unpack_tuples.ipynb\" target=\"_parent\"><img src=\"https://colab.research.google.com/assets/colab-badge.svg\" alt=\"Open In Colab\"/></a>"
      ]
    },
    {
      "cell_type": "markdown",
      "source": [
        "#Unpacking a Tuple in python\n",
        "**Creating tuple means assigining values to it called packing**"
      ],
      "metadata": {
        "id": "pWTQZ3qh_bCJ"
      }
    },
    {
      "cell_type": "code",
      "execution_count": 1,
      "metadata": {
        "id": "9FsE2q2V-pnb"
      },
      "outputs": [],
      "source": [
        "# packing a tuple\n",
        "thistuple = (\"apple\", \"bannana\", \"cherry\")"
      ]
    },
    {
      "cell_type": "markdown",
      "source": [
        "**but in python extracting value from the tuple is known as unpacking**"
      ],
      "metadata": {
        "id": "rWxsCpEWGdRc"
      }
    },
    {
      "cell_type": "code",
      "source": [
        "fruits = (\"apple\", \"bannana\", \"cherry\")\n",
        "(red, blue, green) = fruits\n",
        "print(red)"
      ],
      "metadata": {
        "colab": {
          "base_uri": "https://localhost:8080/"
        },
        "id": "0wI5e6W-GnKW",
        "outputId": "00cd16e7-2b95-430b-ce97-17384d7dc556"
      },
      "execution_count": 6,
      "outputs": [
        {
          "output_type": "stream",
          "name": "stdout",
          "text": [
            "apple\n"
          ]
        }
      ]
    },
    {
      "cell_type": "code",
      "source": [
        "print(blue)"
      ],
      "metadata": {
        "colab": {
          "base_uri": "https://localhost:8080/"
        },
        "id": "q5D3aoDHHHNm",
        "outputId": "66d3e6c1-5f7a-445c-f0fa-db53898c66eb"
      },
      "execution_count": 7,
      "outputs": [
        {
          "output_type": "stream",
          "name": "stdout",
          "text": [
            "bannana\n"
          ]
        }
      ]
    },
    {
      "cell_type": "code",
      "source": [
        "print(green)"
      ],
      "metadata": {
        "colab": {
          "base_uri": "https://localhost:8080/"
        },
        "id": "arEQyPNMHOmh",
        "outputId": "62b9d4a3-4be1-415c-c60e-c2509a675f26"
      },
      "execution_count": 8,
      "outputs": [
        {
          "output_type": "stream",
          "name": "stdout",
          "text": [
            "cherry\n"
          ]
        }
      ]
    },
    {
      "cell_type": "markdown",
      "source": [
        "**The number of variables must match the number of values in tuple otherwise astrick should be added to assign remaining values to the last variable**\n",
        "Assign the rest of the values as a list called \"red\":"
      ],
      "metadata": {
        "id": "zNIYnqgYHdGa"
      }
    },
    {
      "cell_type": "code",
      "source": [
        "fruits = (\"apple\", \"banana\", \"cherry\", \"strawberry\", \"raspberry\")\n",
        "(blue, green, *red) = fruits\n",
        "print(blue)"
      ],
      "metadata": {
        "colab": {
          "base_uri": "https://localhost:8080/"
        },
        "id": "3pRtjvVHH05E",
        "outputId": "bf87d721-4193-495c-b405-3f836e5466ec"
      },
      "execution_count": 11,
      "outputs": [
        {
          "output_type": "stream",
          "name": "stdout",
          "text": [
            "apple\n"
          ]
        }
      ]
    },
    {
      "cell_type": "code",
      "source": [
        "print(red)"
      ],
      "metadata": {
        "colab": {
          "base_uri": "https://localhost:8080/"
        },
        "id": "u2HH2aylKuOe",
        "outputId": "e2c243d9-e59c-482a-ac4c-8df85777508f"
      },
      "execution_count": 12,
      "outputs": [
        {
          "output_type": "stream",
          "name": "stdout",
          "text": [
            "['cherry', 'strawberry', 'raspberry']\n"
          ]
        }
      ]
    },
    {
      "cell_type": "markdown",
      "source": [
        "**If we use astrick value with another value rather than last value**\n",
        "\n",
        "python will assign values untill the remaining value matches the remaining variable."
      ],
      "metadata": {
        "id": "ex_k6NPRKxyY"
      }
    },
    {
      "cell_type": "code",
      "source": [
        "fruits = (\"apple\", \"banana\", \"cherry\", \"strawberry\", \"raspberry\")\n",
        "(blue, *green, red) = fruits\n",
        "print(green)"
      ],
      "metadata": {
        "colab": {
          "base_uri": "https://localhost:8080/"
        },
        "id": "vNhub_fgKv8l",
        "outputId": "0c6131cb-e488-437a-9292-9cfc00b8e694"
      },
      "execution_count": 15,
      "outputs": [
        {
          "output_type": "stream",
          "name": "stdout",
          "text": [
            "['banana', 'cherry', 'strawberry']\n"
          ]
        }
      ]
    }
  ]
}