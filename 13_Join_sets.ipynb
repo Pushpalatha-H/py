{
  "nbformat": 4,
  "nbformat_minor": 0,
  "metadata": {
    "colab": {
      "provenance": [],
      "authorship_tag": "ABX9TyO7DkmtWgU8Kn0vUcR+Vm3Z",
      "include_colab_link": true
    },
    "kernelspec": {
      "name": "python3",
      "display_name": "Python 3"
    },
    "language_info": {
      "name": "python"
    }
  },
  "cells": [
    {
      "cell_type": "markdown",
      "metadata": {
        "id": "view-in-github",
        "colab_type": "text"
      },
      "source": [
        "<a href=\"https://colab.research.google.com/github/Pushpalatha-H/py/blob/main/13_Join_sets.ipynb\" target=\"_parent\"><img src=\"https://colab.research.google.com/assets/colab-badge.svg\" alt=\"Open In Colab\"/></a>"
      ]
    },
    {
      "cell_type": "markdown",
      "source": [
        "#Join sets"
      ],
      "metadata": {
        "id": "4vYx5ZBXh4y8"
      }
    },
    {
      "cell_type": "markdown",
      "source": [
        "**Union() or Update() :** Used to join Sets.\n",
        "\n",
        "**Intersection():** Keep only duplicates.\n",
        "\n",
        "**difference():** Keep the elements of first set which are not present in other set.\n",
        "\n",
        "**Symmetric difference():** Keep all elements except duplicates.\n"
      ],
      "metadata": {
        "id": "oVmw1sgHiAxP"
      }
    },
    {
      "cell_type": "markdown",
      "source": [
        "#Union( )\n",
        "**Union is a method used to join all the elements from all sets.**\n",
        "\n",
        "ex:\n",
        "\n",
        "Join set1 and set2 into a new set:"
      ],
      "metadata": {
        "id": "QjrnXLX0jHpG"
      }
    },
    {
      "cell_type": "code",
      "execution_count": null,
      "metadata": {
        "colab": {
          "base_uri": "https://localhost:8080/"
        },
        "id": "USkWK78ihuCb",
        "outputId": "410d7a05-4219-45d8-c8e1-ad073996c8ad"
      },
      "outputs": [
        {
          "output_type": "stream",
          "name": "stdout",
          "text": [
            "{1, 2, 3, 'a', 'b', 'c'}\n"
          ]
        }
      ],
      "source": [
        "set1 = {\"a\", \"b\", \"c\"}\n",
        "set2 = {1, 2, 3}\n",
        "\n",
        "set3 = set1.union(set2)\n",
        "print(set3)"
      ]
    },
    {
      "cell_type": "markdown",
      "source": [
        " **Both union() and '|' performs same operation**"
      ],
      "metadata": {
        "id": "j9zayTQzkAjX"
      }
    },
    {
      "cell_type": "code",
      "source": [
        "set1 = {\"a\", \"b\", \"c\"}\n",
        "set2 = {1, 2, 3}\n",
        "\n",
        "set3 = set1|set2\n",
        "print(set3)"
      ],
      "metadata": {
        "colab": {
          "base_uri": "https://localhost:8080/"
        },
        "id": "6eZjvoPXkWLj",
        "outputId": "cf0d0c6b-fc40-432b-b151-1e0bae63eb50"
      },
      "execution_count": null,
      "outputs": [
        {
          "output_type": "stream",
          "name": "stdout",
          "text": [
            "{1, 2, 3, 'a', 'b', 'c'}\n"
          ]
        }
      ]
    },
    {
      "cell_type": "markdown",
      "source": [
        "#Join Multiple Sets\n",
        "**Join Multiple sets using union() method**"
      ],
      "metadata": {
        "id": "Uu_MepjZkst5"
      }
    },
    {
      "cell_type": "code",
      "source": [
        "set1 = {\"a\", \"b\", \"c\"}\n",
        "set2 = {1, 2, 3}\n",
        "set3 = {\"John\", \"Elena\"}\n",
        "set4 = {\"apple\", \"bananas\", \"cherry\"}\n",
        "\n",
        "set5 = set1.union(set2, set3, set4)\n",
        "print(set5)"
      ],
      "metadata": {
        "colab": {
          "base_uri": "https://localhost:8080/"
        },
        "id": "Vs4nb_gGk1Rw",
        "outputId": "531c8a5a-66c5-4f6f-8f31-da472f7cdc12"
      },
      "execution_count": null,
      "outputs": [
        {
          "output_type": "stream",
          "name": "stdout",
          "text": [
            "{1, 2, 3, 'John', 'b', 'c', 'cherry', 'apple', 'a', 'Elena', 'bananas'}\n"
          ]
        }
      ]
    },
    {
      "cell_type": "markdown",
      "source": [
        "**Join Multiple sets using '|' method**"
      ],
      "metadata": {
        "id": "d4vvk_2MlFei"
      }
    },
    {
      "cell_type": "code",
      "source": [
        "set1 = {\"a\", \"b\", \"c\"}\n",
        "set2 = {1, 2, 3}\n",
        "set3 = {\"John\", \"Elena\"}\n",
        "set4 = {\"apple\", \"bananas\", \"cherry\"}\n",
        "\n",
        "set5 = set1 | set2 | set3 | set4\n",
        "print(set5)"
      ],
      "metadata": {
        "colab": {
          "base_uri": "https://localhost:8080/"
        },
        "id": "MeodVfNPlD6C",
        "outputId": "04a65409-3a8e-45fc-cf19-b12f73350a05"
      },
      "execution_count": null,
      "outputs": [
        {
          "output_type": "stream",
          "name": "stdout",
          "text": [
            "{1, 2, 3, 'John', 'b', 'c', 'cherry', 'apple', 'a', 'Elena', 'bananas'}\n"
          ]
        }
      ]
    },
    {
      "cell_type": "markdown",
      "source": [
        "# Join set and a Tuple\n",
        "**union() allows to join not only sets. but, also other data types like list or tuples.**"
      ],
      "metadata": {
        "id": "E9aIey0umEbi"
      }
    },
    {
      "cell_type": "code",
      "source": [
        "x = {\"a\", \"b\", \"c\"}\n",
        "y = (1, 2, 3)\n",
        "\n",
        "z = x.union(y)\n",
        "print(z)"
      ],
      "metadata": {
        "colab": {
          "base_uri": "https://localhost:8080/"
        },
        "id": "eAxZg_4MmcjJ",
        "outputId": "10b7499a-cc8d-4e49-835f-b2bf8e1d8b19"
      },
      "execution_count": null,
      "outputs": [
        {
          "output_type": "stream",
          "name": "stdout",
          "text": [
            "{1, 2, 3, 'b', 'c', 'a'}\n"
          ]
        }
      ]
    },
    {
      "cell_type": "markdown",
      "source": [
        "**'|' will join only sets with sets not other data types**"
      ],
      "metadata": {
        "id": "9NXQnj53m8Ys"
      }
    },
    {
      "cell_type": "markdown",
      "source": [
        "# Update( )"
      ],
      "metadata": {
        "id": "y7A9y2T5nOdO"
      }
    },
    {
      "cell_type": "markdown",
      "source": [
        "**Update( ) will join sets**\n",
        "\n",
        "**Update( ) will change original set, it dosent create new set**"
      ],
      "metadata": {
        "id": "b9cSw3pDnR_R"
      }
    },
    {
      "cell_type": "code",
      "source": [
        "x = {\"a\", \"b\", \"c\"}\n",
        "y = {1, 2, 3}\n",
        "\n",
        "x.update(y)\n",
        "x"
      ],
      "metadata": {
        "colab": {
          "base_uri": "https://localhost:8080/"
        },
        "id": "A5oENEQHmopH",
        "outputId": "20b9cbaa-17a7-48f8-b882-a703aa081c10"
      },
      "execution_count": null,
      "outputs": [
        {
          "output_type": "execute_result",
          "data": {
            "text/plain": [
              "{1, 2, 3, 'a', 'b', 'c'}"
            ]
          },
          "metadata": {},
          "execution_count": 21
        }
      ]
    },
    {
      "cell_type": "markdown",
      "source": [
        "**Both Update( ) and Union( ) performs same operation of joining sets**"
      ],
      "metadata": {
        "id": "J5fNCUdYoVmQ"
      }
    },
    {
      "cell_type": "markdown",
      "source": [
        "# Intersection"
      ],
      "metadata": {
        "id": "KBn2_E4ooqCF"
      }
    },
    {
      "cell_type": "markdown",
      "source": [
        "**Intersection( ) : keep duplicates only**"
      ],
      "metadata": {
        "id": "HabWQCVrowKM"
      }
    },
    {
      "cell_type": "markdown",
      "source": [
        "Join set1 and set2, but keep only the duplicates:"
      ],
      "metadata": {
        "id": "oviJFGkdpD1Z"
      }
    },
    {
      "cell_type": "code",
      "source": [
        "set1 = {\"apple\", \"banana\", \"cherry\"}\n",
        "set2 = {\"google\", \"microsoft\", \"apple\"}\n",
        "\n",
        "set3 = set1.intersection(set2)\n",
        "print(set3)"
      ],
      "metadata": {
        "colab": {
          "base_uri": "https://localhost:8080/"
        },
        "id": "WHZVFMENogz8",
        "outputId": "3b3c17ff-a16a-4815-cb45-4828faa147e5"
      },
      "execution_count": null,
      "outputs": [
        {
          "output_type": "stream",
          "name": "stdout",
          "text": [
            "{'apple'}\n"
          ]
        }
      ]
    },
    {
      "cell_type": "markdown",
      "source": [
        "**Both '&' operation and Intersection( ) performs same tasks of creating new set and keeping duplicates**"
      ],
      "metadata": {
        "id": "F8mdHF_5pXJu"
      }
    },
    {
      "cell_type": "code",
      "source": [
        "set1 = {\"apple\", \"banana\", \"cherry\"}\n",
        "set2 = {\"google\", \"microsoft\", \"apple\"}\n",
        "\n",
        "set3 = set1 & set2\n",
        "print(set3)"
      ],
      "metadata": {
        "colab": {
          "base_uri": "https://localhost:8080/"
        },
        "id": "Tw-HepEcpi_w",
        "outputId": "fbc0f41a-1eb0-4f4d-b54e-f6fafc81ba55"
      },
      "execution_count": null,
      "outputs": [
        {
          "output_type": "stream",
          "name": "stdout",
          "text": [
            "{'apple'}\n"
          ]
        }
      ]
    },
    {
      "cell_type": "markdown",
      "source": [
        "# Intersection_update( )\n",
        "**Intersection update will keep duplicates only, but it will not create new set it will update the original set.**"
      ],
      "metadata": {
        "id": "loqpSSBTNdkQ"
      }
    },
    {
      "cell_type": "code",
      "source": [
        "set1 = {\"apple\", \"banana\", \"cherry\"}\n",
        "set2 = {\"google\", \"microsoft\", \"apple\"}\n",
        "\n",
        "set1.intersection_update(set2)\n",
        "print(set1)"
      ],
      "metadata": {
        "colab": {
          "base_uri": "https://localhost:8080/"
        },
        "id": "Jm4Lry-nNk_O",
        "outputId": "df593852-8d37-4e90-d938-d452e4aba661"
      },
      "execution_count": null,
      "outputs": [
        {
          "output_type": "stream",
          "name": "stdout",
          "text": [
            "{'apple'}\n"
          ]
        }
      ]
    },
    {
      "cell_type": "markdown",
      "source": [
        "**True , 1 goes for same value and False, 0 goes for same values.**\n",
        "\n",
        "ex:\n",
        "\n",
        "Join sets that contains the values True, False, 1, and 0, and see what is considered as duplicates:"
      ],
      "metadata": {
        "id": "1K9fpnggO4sM"
      }
    },
    {
      "cell_type": "code",
      "source": [
        "set1 = {\"apple\", 1,  \"banana\", 0, \"cherry\"}\n",
        "set2 = {False, \"google\", 1, \"apple\", 2, True}\n",
        "\n",
        "set3 =  set1.intersection(set2)\n",
        "print(set3)"
      ],
      "metadata": {
        "colab": {
          "base_uri": "https://localhost:8080/"
        },
        "id": "4v_P-_nXOvl7",
        "outputId": "e8f4d3dc-5983-4e3e-a9fe-0946ec564ffa"
      },
      "execution_count": null,
      "outputs": [
        {
          "output_type": "stream",
          "name": "stdout",
          "text": [
            "{False, 1, 'apple'}\n"
          ]
        }
      ]
    },
    {
      "cell_type": "markdown",
      "source": [
        "# Difference\n",
        "**Difference : It will keep the elements of first sets which are not present in last set**\n",
        "\n",
        "Keep all items from set1 that are not in set2:"
      ],
      "metadata": {
        "id": "WXpYBOkuQDM5"
      }
    },
    {
      "cell_type": "code",
      "source": [
        "set1 = {\"apple\", \"banana\", \"cherry\"}\n",
        "set2 = {\"google\", \"microsoft\", \"apple\"}\n",
        "\n",
        "set3 = set1.difference(set2)\n",
        "print(set3)"
      ],
      "metadata": {
        "colab": {
          "base_uri": "https://localhost:8080/"
        },
        "id": "U2IkkUhSQo3A",
        "outputId": "26c805c9-644f-448e-abce-5cf0f449dfe8"
      },
      "execution_count": null,
      "outputs": [
        {
          "output_type": "stream",
          "name": "stdout",
          "text": [
            "{'cherry', 'banana'}\n"
          ]
        }
      ]
    },
    {
      "cell_type": "markdown",
      "source": [
        "**We can use '-' sign operator instead of difference(). we get the same result**"
      ],
      "metadata": {
        "id": "bwD3fEMpRJgt"
      }
    },
    {
      "cell_type": "code",
      "source": [
        "set1 = {\"apple\", \"banana\", \"cherry\"}\n",
        "set2 = {\"google\", \"microsoft\", \"apple\"}\n",
        "\n",
        "set3 = set1 - set2\n",
        "print(set3)"
      ],
      "metadata": {
        "colab": {
          "base_uri": "https://localhost:8080/"
        },
        "id": "C5QfRfJfRe3o",
        "outputId": "ada1251b-d728-42af-ebb9-671732f4c57d"
      },
      "execution_count": null,
      "outputs": [
        {
          "output_type": "stream",
          "name": "stdout",
          "text": [
            "{'cherry', 'banana'}\n"
          ]
        }
      ]
    },
    {
      "cell_type": "markdown",
      "source": [
        "we can use '-' only with sets but not with other data types as we do in  difference()"
      ],
      "metadata": {
        "id": "ZyNxwOOxSDMj"
      }
    },
    {
      "cell_type": "markdown",
      "source": [
        "# difference_update\n",
        "**difference update keep the elements present in first set and not in last one.\n",
        "It wont create new set. It will change the original set.**"
      ],
      "metadata": {
        "id": "bKDhjk6m_VSF"
      }
    },
    {
      "cell_type": "code",
      "source": [
        "set1 = {\"apple\", \"banana\", \"cherry\"}\n",
        "set2 = {\"google\", \"microsoft\", \"apple\"}\n",
        "\n",
        "set1.difference_update(set2)\n",
        "set1"
      ],
      "metadata": {
        "id": "phBiaOX0TA9B",
        "colab": {
          "base_uri": "https://localhost:8080/"
        },
        "outputId": "b092f204-ec05-4eea-f42c-e6db73f5ff6c"
      },
      "execution_count": 10,
      "outputs": [
        {
          "output_type": "execute_result",
          "data": {
            "text/plain": [
              "{'banana', 'cherry'}"
            ]
          },
          "metadata": {},
          "execution_count": 10
        }
      ]
    },
    {
      "cell_type": "markdown",
      "source": [
        "# Symmetric Difference\n",
        "**The symmetric_difference( ) will keep all the elements by removing the duplicates**\n",
        "\n",
        "ex:\n",
        "\n",
        "keep the items that are not present in both the sets"
      ],
      "metadata": {
        "id": "b2aElsi4A8nJ"
      }
    },
    {
      "cell_type": "code",
      "source": [
        "set1 = {\"apple\", \"banana\", \"cherry\"}\n",
        "set2 = {\"google\", \"microsoft\", \"apple\"}\n",
        "\n",
        "set3 = set1.symmetric_difference(set2)\n",
        "print(set3)"
      ],
      "metadata": {
        "colab": {
          "base_uri": "https://localhost:8080/"
        },
        "id": "TSpwGotPBO_u",
        "outputId": "aff6f691-c6f0-407e-f07a-ee1be0dca5dc"
      },
      "execution_count": 14,
      "outputs": [
        {
          "output_type": "stream",
          "name": "stdout",
          "text": [
            "{'cherry', 'banana', 'microsoft', 'google'}\n"
          ]
        }
      ]
    },
    {
      "cell_type": "markdown",
      "source": [
        "#^\n",
        "**Both symmetric_difference() and ^ performs same operation**"
      ],
      "metadata": {
        "id": "COLU4QpKByBn"
      }
    },
    {
      "cell_type": "code",
      "source": [
        "set1 = {\"apple\", \"banana\", \"cherry\"}\n",
        "set2 = {\"google\", \"microsoft\", \"apple\"}\n",
        "\n",
        "set3 = set1 ^ set2\n",
        "print(set3)"
      ],
      "metadata": {
        "colab": {
          "base_uri": "https://localhost:8080/"
        },
        "id": "KDf2nknQCM8l",
        "outputId": "f75e884c-06ce-482e-b172-f3b36ee0fafc"
      },
      "execution_count": 17,
      "outputs": [
        {
          "output_type": "stream",
          "name": "stdout",
          "text": [
            "{'cherry', 'banana', 'microsoft', 'google'}\n"
          ]
        }
      ]
    },
    {
      "cell_type": "markdown",
      "source": [
        "# symmetric_difference_update( )\n",
        "**Symmetric_difference_update( ) keep all the elements except the duplicates.**\n",
        "\n",
        "**This wont create a new set but it will update the original set**"
      ],
      "metadata": {
        "id": "pMfsQcNXCWeI"
      }
    },
    {
      "cell_type": "code",
      "source": [
        "set1 = {\"apple\", \"banana\", \"cherry\"}\n",
        "set2 = {\"google\", \"microsoft\", \"apple\"}\n",
        "\n",
        "set1.symmetric_difference_update(set2)\n",
        "set1"
      ],
      "metadata": {
        "colab": {
          "base_uri": "https://localhost:8080/"
        },
        "id": "pMGUmDqvD9IW",
        "outputId": "0786bee9-f555-486a-c163-3b4065877bfe"
      },
      "execution_count": 20,
      "outputs": [
        {
          "output_type": "execute_result",
          "data": {
            "text/plain": [
              "{'banana', 'cherry', 'google', 'microsoft'}"
            ]
          },
          "metadata": {},
          "execution_count": 20
        }
      ]
    }
  ]
}