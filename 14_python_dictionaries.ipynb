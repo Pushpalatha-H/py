{
  "nbformat": 4,
  "nbformat_minor": 0,
  "metadata": {
    "colab": {
      "provenance": [],
      "authorship_tag": "ABX9TyMWeaifLNlG2d1QJv53HeGL",
      "include_colab_link": true
    },
    "kernelspec": {
      "name": "python3",
      "display_name": "Python 3"
    },
    "language_info": {
      "name": "python"
    }
  },
  "cells": [
    {
      "cell_type": "markdown",
      "metadata": {
        "id": "view-in-github",
        "colab_type": "text"
      },
      "source": [
        "<a href=\"https://colab.research.google.com/github/Pushpalatha-H/py/blob/main/14_python_dictionaries.ipynb\" target=\"_parent\"><img src=\"https://colab.research.google.com/assets/colab-badge.svg\" alt=\"Open In Colab\"/></a>"
      ]
    },
    {
      "cell_type": "markdown",
      "source": [
        "#Python Dictionaries.\n",
        "#Dictionaries :\n",
        "**Dictionaries are used to store the elements in key, value pairs. Dictionaries store elements in curly braces { }.**\n",
        "\n",
        "**Dictonaries consists of elements which are ordered, changable and dont allow duplicates.**\n",
        "\n",
        "ex:\n",
        "\n",
        "Create and print a dictionary:"
      ],
      "metadata": {
        "id": "ueffn2fgbrlF"
      }
    },
    {
      "cell_type": "code",
      "execution_count": 3,
      "metadata": {
        "colab": {
          "base_uri": "https://localhost:8080/"
        },
        "id": "bbQwo7pwbjR7",
        "outputId": "a296701e-2733-4edb-8fcc-9d202eb8d620"
      },
      "outputs": [
        {
          "output_type": "stream",
          "name": "stdout",
          "text": [
            "{'barnd': 'Ford', 'Model': 'Mustag', 'year': 1964}\n"
          ]
        }
      ],
      "source": [
        "thisdict = {\n",
        "    \"barnd\" : \"Ford\",\n",
        "    \"Model\" : \"Mustag\",\n",
        "    \"year\" : 1964\n",
        "}\n",
        "print(thisdict)"
      ]
    },
    {
      "cell_type": "markdown",
      "source": [
        "# Dictionary items( )\n",
        "**Dictionary consists of elements which are int, string, booleans**\n",
        "\n",
        "**Dictionary consist of key : value pair elements**\n",
        "\n",
        "Print the \"brand\" value of the dictionary:"
      ],
      "metadata": {
        "id": "FiNgMg2Udvzh"
      }
    },
    {
      "cell_type": "code",
      "source": [
        "thisdict = {\n",
        "  \"brand\": \"Ford\",\n",
        "  \"model\": \"Mustang\",\n",
        "  \"year\": 1964\n",
        "}\n",
        "print(thisdict['brand'])"
      ],
      "metadata": {
        "colab": {
          "base_uri": "https://localhost:8080/"
        },
        "id": "r3rammLWefy6",
        "outputId": "143f8a0d-2f77-4594-cd28-1545d3ddaa1e"
      },
      "execution_count": 5,
      "outputs": [
        {
          "output_type": "stream",
          "name": "stdout",
          "text": [
            "Ford\n"
          ]
        }
      ]
    },
    {
      "cell_type": "markdown",
      "source": [
        "**Duplicate values are not allowed**\n",
        "\n",
        "Dictionaries cannot have same key to 2 values. Dict will overwrite the exsting value."
      ],
      "metadata": {
        "id": "gYAnJsW0e_zJ"
      }
    },
    {
      "cell_type": "code",
      "source": [
        "thisdict = {\n",
        "  \"brand\": \"Ford\",\n",
        "  \"model\": \"Mustang\",\n",
        "  \"year\": 1964,\n",
        "  \"year\": 2020\n",
        "}\n",
        "print(thisdict)"
      ],
      "metadata": {
        "colab": {
          "base_uri": "https://localhost:8080/"
        },
        "id": "fhrtRCdmfPxL",
        "outputId": "c2e8370e-aa2b-4ec4-a44f-c78868877cb5"
      },
      "execution_count": 7,
      "outputs": [
        {
          "output_type": "stream",
          "name": "stdout",
          "text": [
            "{'brand': 'Ford', 'model': 'Mustang', 'year': 2020}\n"
          ]
        }
      ]
    },
    {
      "cell_type": "markdown",
      "source": [
        "#Dictionary Length\n",
        "Use fun len() to calculate the number of items in dict."
      ],
      "metadata": {
        "id": "vcL8Z73NfsrJ"
      }
    },
    {
      "cell_type": "code",
      "source": [
        "# Print the number of items in the dictionary:\n",
        "thisdict = {\n",
        "  \"brand\": \"Ford\",\n",
        "  \"model\": \"Mustang\",\n",
        "  \"year\": 1964\n",
        "}\n",
        "print(len(thisdict))"
      ],
      "metadata": {
        "colab": {
          "base_uri": "https://localhost:8080/"
        },
        "id": "BgssEO_Xf3KR",
        "outputId": "7b462f61-bb91-4be4-e358-9b6f7610fb23"
      },
      "execution_count": 10,
      "outputs": [
        {
          "output_type": "stream",
          "name": "stdout",
          "text": [
            "3\n"
          ]
        }
      ]
    },
    {
      "cell_type": "markdown",
      "source": [
        "# Dictionary items : Data Types\n",
        "Dictionary items consists of str, int, boolean and list data types"
      ],
      "metadata": {
        "id": "43u-kQMBgOdn"
      }
    },
    {
      "cell_type": "code",
      "source": [
        "thisdict = {\n",
        "    'brand' : 'Ford',\n",
        "    'year' : 1964,\n",
        "    'electric' : True,\n",
        "    \"colors\": [\"red\", \"white\", \"blue\"]\n",
        "}\n",
        "print(thisdict)"
      ],
      "metadata": {
        "colab": {
          "base_uri": "https://localhost:8080/"
        },
        "id": "rK0YZgouggUG",
        "outputId": "e653461b-995e-4ee9-adb7-76beeccbefc8"
      },
      "execution_count": 14,
      "outputs": [
        {
          "output_type": "stream",
          "name": "stdout",
          "text": [
            "{'brand': 'Ford', 'year': 1964, 'electric': True, 'colors': ['red', 'white', 'blue']}\n"
          ]
        }
      ]
    },
    {
      "cell_type": "markdown",
      "source": [
        "#type( )\n",
        "type() function is used to identify whether it is dict or not"
      ],
      "metadata": {
        "id": "N0Q1AT_ThUxo"
      }
    },
    {
      "cell_type": "markdown",
      "source": [
        "Print the data type of a dictionary:"
      ],
      "metadata": {
        "id": "7XQdi6OTh-HT"
      }
    },
    {
      "cell_type": "code",
      "source": [
        "thisdict = {\n",
        "  \"brand\": \"Ford\",\n",
        "  \"model\": \"Mustang\",\n",
        "  \"year\": 1964\n",
        "}\n",
        "print(type(thisdict))"
      ],
      "metadata": {
        "colab": {
          "base_uri": "https://localhost:8080/"
        },
        "id": "ucClAuelh6MH",
        "outputId": "26a832ec-c5a7-44d7-dd37-99b9c57ba0cc"
      },
      "execution_count": 16,
      "outputs": [
        {
          "output_type": "stream",
          "name": "stdout",
          "text": [
            "<class 'dict'>\n"
          ]
        }
      ]
    },
    {
      "cell_type": "markdown",
      "source": [
        "#The dict() Constructor\n"
      ],
      "metadata": {
        "id": "MD69sViCiLiB"
      }
    },
    {
      "cell_type": "code",
      "source": [
        "thisdict = dict(Name = 'puu', cls = 10)\n",
        "print(thisdict)"
      ],
      "metadata": {
        "colab": {
          "base_uri": "https://localhost:8080/"
        },
        "id": "sjWSOH7RiSGh",
        "outputId": "da444bc8-d316-405c-ebc3-493babba459e"
      },
      "execution_count": 24,
      "outputs": [
        {
          "output_type": "stream",
          "name": "stdout",
          "text": [
            "{'Name': 'puu', 'cls': 10}\n"
          ]
        }
      ]
    }
  ]
}