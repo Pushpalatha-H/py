{
  "nbformat": 4,
  "nbformat_minor": 0,
  "metadata": {
    "colab": {
      "provenance": [],
      "authorship_tag": "ABX9TyMTxJ+pWO7NXc49JnqKMo9m",
      "include_colab_link": true
    },
    "kernelspec": {
      "name": "python3",
      "display_name": "Python 3"
    },
    "language_info": {
      "name": "python"
    }
  },
  "cells": [
    {
      "cell_type": "markdown",
      "metadata": {
        "id": "view-in-github",
        "colab_type": "text"
      },
      "source": [
        "<a href=\"https://colab.research.google.com/github/Pushpalatha-H/py/blob/main/15_Access_Dictionary_items.ipynb\" target=\"_parent\"><img src=\"https://colab.research.google.com/assets/colab-badge.svg\" alt=\"Open In Colab\"/></a>"
      ]
    },
    {
      "cell_type": "markdown",
      "source": [
        "#Python - Access Dictionary items\n"
      ],
      "metadata": {
        "id": "cICBCztTp2o9"
      }
    },
    {
      "cell_type": "markdown",
      "source": [
        "# Access items in dictionary by refering to key, inside a square bracket\n",
        "**Get the value of the \"model\" key:**"
      ],
      "metadata": {
        "id": "yietFBI7qP69"
      }
    },
    {
      "cell_type": "code",
      "execution_count": 2,
      "metadata": {
        "colab": {
          "base_uri": "https://localhost:8080/"
        },
        "id": "upMk4b02pprW",
        "outputId": "abef7bcf-275e-4d06-a723-13e3b5cb2aa1"
      },
      "outputs": [
        {
          "output_type": "stream",
          "name": "stdout",
          "text": [
            "Mustang\n"
          ]
        }
      ],
      "source": [
        "thisdict = {\n",
        "  \"brand\": \"Ford\",\n",
        "  \"model\": \"Mustang\",\n",
        "  \"year\": 1964\n",
        "}\n",
        "print(thisdict['model'])"
      ]
    },
    {
      "cell_type": "markdown",
      "source": [
        "**another method of accessig dict is by using get() function**"
      ],
      "metadata": {
        "id": "-UmVP6w0rGJE"
      }
    },
    {
      "cell_type": "code",
      "source": [
        "thisdict.get('model')"
      ],
      "metadata": {
        "colab": {
          "base_uri": "https://localhost:8080/",
          "height": 35
        },
        "id": "aVS3X8FmrBC_",
        "outputId": "78a23f79-20fa-4465-b89e-66d421e3e873"
      },
      "execution_count": 3,
      "outputs": [
        {
          "output_type": "execute_result",
          "data": {
            "text/plain": [
              "'Mustang'"
            ],
            "application/vnd.google.colaboratory.intrinsic+json": {
              "type": "string"
            }
          },
          "metadata": {},
          "execution_count": 3
        }
      ]
    },
    {
      "cell_type": "markdown",
      "source": [
        "**Get keys( )**\n",
        "\n",
        "**Get keys is used to get all the keys of the dictionary**"
      ],
      "metadata": {
        "id": "OCn2bqi7rVSo"
      }
    },
    {
      "cell_type": "code",
      "source": [
        "thisdict.keys()"
      ],
      "metadata": {
        "colab": {
          "base_uri": "https://localhost:8080/"
        },
        "id": "2QfMGzQNrcGK",
        "outputId": "92843374-0d76-4f41-f8de-8227c926d12f"
      },
      "execution_count": 4,
      "outputs": [
        {
          "output_type": "execute_result",
          "data": {
            "text/plain": [
              "dict_keys(['brand', 'model', 'year'])"
            ]
          },
          "metadata": {},
          "execution_count": 4
        }
      ]
    },
    {
      "cell_type": "markdown",
      "source": [
        "**a new item to the original dictionary, and see that the keys list gets updated as well:**"
      ],
      "metadata": {
        "id": "WGLNA5fmrrSy"
      }
    },
    {
      "cell_type": "code",
      "source": [
        "car = {\n",
        "\"brand\": \"Ford\",\n",
        "\"model\": \"Mustang\",\n",
        "\"year\": 1964\n",
        "}\n",
        "x =  car.keys()\n",
        "print(x)                      # before update"
      ],
      "metadata": {
        "colab": {
          "base_uri": "https://localhost:8080/"
        },
        "id": "FwRfykPqrs2U",
        "outputId": "f888d97c-4034-46e4-ffa8-c81ddfede727"
      },
      "execution_count": 8,
      "outputs": [
        {
          "output_type": "stream",
          "name": "stdout",
          "text": [
            "dict_keys(['brand', 'model', 'year'])\n"
          ]
        }
      ]
    },
    {
      "cell_type": "code",
      "source": [
        "                               # after update\n",
        "car['colour'] = 'white'\n",
        "x = car.keys()\n",
        "print(x)"
      ],
      "metadata": {
        "colab": {
          "base_uri": "https://localhost:8080/"
        },
        "id": "oCpVN2Err6Gi",
        "outputId": "83d5f643-abdf-4ad7-ee91-cc2eb2ebb2dc"
      },
      "execution_count": 11,
      "outputs": [
        {
          "output_type": "stream",
          "name": "stdout",
          "text": [
            "dict_keys(['brand', 'model', 'year', 'colour'])\n"
          ]
        }
      ]
    },
    {
      "cell_type": "markdown",
      "source": [
        "#Get Values\n",
        "**values() is used to find the values in dictionary**"
      ],
      "metadata": {
        "id": "fvxP9RP9sWWA"
      }
    },
    {
      "cell_type": "code",
      "source": [
        "x = thisdict.values()\n",
        "print(x)"
      ],
      "metadata": {
        "colab": {
          "base_uri": "https://localhost:8080/"
        },
        "id": "3whw6MFZskFw",
        "outputId": "1009af48-075b-4a06-d35d-4f4d9b40ff92"
      },
      "execution_count": 14,
      "outputs": [
        {
          "output_type": "stream",
          "name": "stdout",
          "text": [
            "dict_values(['Ford', 'Mustang', 1964])\n"
          ]
        }
      ]
    },
    {
      "cell_type": "markdown",
      "source": [
        "**Make a change in the original dictionary, and see that the values list gets updated as well:**"
      ],
      "metadata": {
        "id": "FMJ1btp2s0hz"
      }
    },
    {
      "cell_type": "code",
      "source": [
        "car = {\n",
        "\"brand\": \"Ford\",\n",
        "\"model\": \"Mustang\",\n",
        "\"year\": 1964\n",
        "}\n",
        "x = car.values()    # before update\n",
        "print(x)"
      ],
      "metadata": {
        "colab": {
          "base_uri": "https://localhost:8080/"
        },
        "id": "_c7LyESqszoF",
        "outputId": "874595dd-0188-44a5-f132-89f226e199b2"
      },
      "execution_count": 17,
      "outputs": [
        {
          "output_type": "stream",
          "name": "stdout",
          "text": [
            "dict_values(['Ford', 'Mustang', 1964])\n"
          ]
        }
      ]
    },
    {
      "cell_type": "code",
      "source": [
        "car['year'] = 2024\n",
        "x = car.values()\n",
        "print(x)"
      ],
      "metadata": {
        "colab": {
          "base_uri": "https://localhost:8080/"
        },
        "id": "QaVszWYCtbXs",
        "outputId": "81e8f8be-b350-48e6-c6e5-18b1db4dfacd"
      },
      "execution_count": 20,
      "outputs": [
        {
          "output_type": "stream",
          "name": "stdout",
          "text": [
            "dict_values(['Ford', 'Mustang', 2024])\n"
          ]
        }
      ]
    },
    {
      "cell_type": "markdown",
      "source": [
        "**Add a new item to the original dictionary, and see that the values list gets updated as well:**"
      ],
      "metadata": {
        "id": "-i9t8Fn-tvqQ"
      }
    },
    {
      "cell_type": "code",
      "source": [
        "car = {\n",
        "\"brand\": \"Ford\",\n",
        "\"model\": \"Mustang\",\n",
        "\"year\": 1964\n",
        "}\n",
        "\n",
        "x = car.values()\n",
        "print(x)"
      ],
      "metadata": {
        "colab": {
          "base_uri": "https://localhost:8080/"
        },
        "id": "S5SHQsGrtzWb",
        "outputId": "6b4c4076-f7e8-4789-f333-5555e3441df0"
      },
      "execution_count": 23,
      "outputs": [
        {
          "output_type": "stream",
          "name": "stdout",
          "text": [
            "dict_values(['Ford', 'Mustang', 1964])\n"
          ]
        }
      ]
    },
    {
      "cell_type": "code",
      "source": [
        "car['color'] : 'red'\n",
        "\n",
        "x = car.values()\n",
        "print(x)"
      ],
      "metadata": {
        "colab": {
          "base_uri": "https://localhost:8080/"
        },
        "id": "JKDplxCnuc3V",
        "outputId": "1d9bd3a2-e6b1-4c46-ca93-0ac78a616e6c"
      },
      "execution_count": 28,
      "outputs": [
        {
          "output_type": "stream",
          "name": "stdout",
          "text": [
            "dict_values(['Ford', 'Mustang', 1964, 'red'])\n"
          ]
        }
      ]
    },
    {
      "cell_type": "markdown",
      "source": [
        "# Get items( )\n",
        "\n",
        "**To get items( ) from the dict**"
      ],
      "metadata": {
        "id": "yGJxxdOxuzgR"
      }
    },
    {
      "cell_type": "code",
      "source": [
        "car = {\n",
        "\"brand\": \"Ford\",\n",
        "\"model\": \"Mustang\",\n",
        "\"year\": 1964\n",
        "}\n",
        "x = car.items()                  # before update\n",
        "print(x)"
      ],
      "metadata": {
        "colab": {
          "base_uri": "https://localhost:8080/"
        },
        "id": "FZmZAzLGvOG1",
        "outputId": "f7da1722-1658-48ad-96e0-9c8866ae2799"
      },
      "execution_count": 31,
      "outputs": [
        {
          "output_type": "stream",
          "name": "stdout",
          "text": [
            "dict_items([('brand', 'Ford'), ('model', 'Mustang'), ('year', 1964)])\n"
          ]
        }
      ]
    },
    {
      "cell_type": "code",
      "source": [
        "car['color'] : 'black'\n",
        "\n",
        "x = car.items()\n",
        "print(x)"
      ],
      "metadata": {
        "colab": {
          "base_uri": "https://localhost:8080/"
        },
        "id": "-pAk70dDvUBW",
        "outputId": "7a59f0aa-8b49-4001-d6aa-3d4d7e70e594"
      },
      "execution_count": 34,
      "outputs": [
        {
          "output_type": "stream",
          "name": "stdout",
          "text": [
            "dict_items([('brand', 'Ford'), ('model', 'Mustang'), ('year', 1964)])\n"
          ]
        }
      ]
    },
    {
      "cell_type": "markdown",
      "source": [
        "# Check if Key Exists\n",
        " To check whether the key exists we use **in()** keyword.\n",
        "\n",
        " **Check if \"model\" is present in the dictionary:**"
      ],
      "metadata": {
        "id": "iPbhchYbvhlf"
      }
    },
    {
      "cell_type": "code",
      "source": [
        "thisdict = {\n",
        "  \"brand\": \"Ford\",\n",
        "  \"model\": \"Mustang\",\n",
        "  \"year\": 1964\n",
        "}\n",
        "if 'model' in thisdict:\n",
        "  print(\"yes, present\")"
      ],
      "metadata": {
        "colab": {
          "base_uri": "https://localhost:8080/"
        },
        "id": "6O1EEII8vs_F",
        "outputId": "9ddb00d5-fd66-407b-fe7a-5913408efe05"
      },
      "execution_count": 37,
      "outputs": [
        {
          "output_type": "stream",
          "name": "stdout",
          "text": [
            "yes, present\n"
          ]
        }
      ]
    }
  ]
}