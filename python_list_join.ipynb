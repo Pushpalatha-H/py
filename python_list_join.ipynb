{
  "nbformat": 4,
  "nbformat_minor": 0,
  "metadata": {
    "colab": {
      "provenance": [],
      "authorship_tag": "ABX9TyPMNafgcRFos2IxtbOGui+s",
      "include_colab_link": true
    },
    "kernelspec": {
      "name": "python3",
      "display_name": "Python 3"
    },
    "language_info": {
      "name": "python"
    }
  },
  "cells": [
    {
      "cell_type": "markdown",
      "metadata": {
        "id": "view-in-github",
        "colab_type": "text"
      },
      "source": [
        "<a href=\"https://colab.research.google.com/github/Pushpalatha-H/py/blob/main/python_list_join.ipynb\" target=\"_parent\"><img src=\"https://colab.research.google.com/assets/colab-badge.svg\" alt=\"Open In Colab\"/></a>"
      ]
    },
    {
      "cell_type": "markdown",
      "source": [
        "#Join List\n",
        "**1. Easiest way of joining two lists is using '+' operator**"
      ],
      "metadata": {
        "id": "b5MH8-Ux4-yR"
      }
    },
    {
      "cell_type": "code",
      "execution_count": 1,
      "metadata": {
        "colab": {
          "base_uri": "https://localhost:8080/"
        },
        "id": "J3bMAlw54TTT",
        "outputId": "c413ff49-1d5d-4852-97e0-513bca4e21ce"
      },
      "outputs": [
        {
          "output_type": "stream",
          "name": "stdout",
          "text": [
            "['c', 'd', 'a', 1, 2, 3]\n"
          ]
        }
      ],
      "source": [
        "List1 = ['c', 'd','a']\n",
        "List2 = [1, 2, 3]\n",
        "list = List1 + List2\n",
        "print(list)"
      ]
    },
    {
      "cell_type": "markdown",
      "source": [
        "**2. By using append method**\n",
        "\n",
        "Append List2  with List1"
      ],
      "metadata": {
        "id": "AMovyDdw5gn1"
      }
    },
    {
      "cell_type": "code",
      "source": [
        "list1 = ['c', 'd','a']\n",
        "list2 = [1, 2, 3]\n",
        "for x in list2:\n",
        "  list1.append(x)\n",
        "print(list1)"
      ],
      "metadata": {
        "colab": {
          "base_uri": "https://localhost:8080/"
        },
        "id": "LQQ7rpXc5fdK",
        "outputId": "ffcb1de2-e854-4e74-9866-359f6d3d3b4a"
      },
      "execution_count": 4,
      "outputs": [
        {
          "output_type": "stream",
          "name": "stdout",
          "text": [
            "['c', 'd', 'a', 1, 2, 3]\n"
          ]
        }
      ]
    },
    {
      "cell_type": "markdown",
      "source": [
        "**3. By using extend method**"
      ],
      "metadata": {
        "id": "HeswHpvT6nh1"
      }
    },
    {
      "cell_type": "code",
      "source": [
        "List1 = ['c', 'd','a']\n",
        "List2 = [1, 2, 3]\n",
        "List1.extend(List2)\n",
        "print(List1)"
      ],
      "metadata": {
        "colab": {
          "base_uri": "https://localhost:8080/"
        },
        "id": "PTioO28_6mXB",
        "outputId": "bf4931dd-ac0a-4089-a84a-4359754c5a72"
      },
      "execution_count": 10,
      "outputs": [
        {
          "output_type": "stream",
          "name": "stdout",
          "text": [
            "['c', 'd', 'a', 1, 2, 3]\n"
          ]
        }
      ]
    },
    {
      "cell_type": "markdown",
      "source": [
        "#Copy List"
      ],
      "metadata": {
        "id": "y-82Pllm8rlx"
      }
    },
    {
      "cell_type": "markdown",
      "source": [
        "we cannot directly copy LIST1 = LIST2 coz change made in LIST1 will direclty affect the change in LIST2.\n",
        "There are other ways to copy the list\n",
        "\n",
        "**1. copy()**\n"
      ],
      "metadata": {
        "id": "hBmb1AuIBF2u"
      }
    },
    {
      "cell_type": "code",
      "source": [
        "list = ['zim', 'vim', 'rim']\n",
        "mylist = list.copy()\n",
        "print(mylist)"
      ],
      "metadata": {
        "colab": {
          "base_uri": "https://localhost:8080/"
        },
        "id": "jfIhZZwT8pc-",
        "outputId": "5d5aa8c9-ca79-4376-e8ed-a1028705d773"
      },
      "execution_count": 12,
      "outputs": [
        {
          "output_type": "stream",
          "name": "stdout",
          "text": [
            "['zim', 'vim', 'rim']\n"
          ]
        }
      ]
    }
  ]
}