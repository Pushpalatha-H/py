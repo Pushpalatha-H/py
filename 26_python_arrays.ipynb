{
  "nbformat": 4,
  "nbformat_minor": 0,
  "metadata": {
    "colab": {
      "provenance": [],
      "authorship_tag": "ABX9TyMD38Zdg+UFHjmiGlkRBnhm",
      "include_colab_link": true
    },
    "kernelspec": {
      "name": "python3",
      "display_name": "Python 3"
    },
    "language_info": {
      "name": "python"
    }
  },
  "cells": [
    {
      "cell_type": "markdown",
      "metadata": {
        "id": "view-in-github",
        "colab_type": "text"
      },
      "source": [
        "<a href=\"https://colab.research.google.com/github/Pushpalatha-H/py/blob/main/26_python_arrays.ipynb\" target=\"_parent\"><img src=\"https://colab.research.google.com/assets/colab-badge.svg\" alt=\"Open In Colab\"/></a>"
      ]
    },
    {
      "cell_type": "markdown",
      "source": [
        "#Python Arrays\n",
        "**We dont have any built-in functions for Arrays. we can use list to behave as arrays in python**\n",
        "\n",
        "Arrays can be used to store multiple values in single variable.\n",
        "\n",
        "#create an array called car_names"
      ],
      "metadata": {
        "id": "tYu607M2N__v"
      }
    },
    {
      "cell_type": "code",
      "execution_count": 38,
      "metadata": {
        "id": "m2NdsNVWaZrW",
        "colab": {
          "base_uri": "https://localhost:8080/"
        },
        "outputId": "50c8758f-43f9-4ca6-b161-dce99ffc30af"
      },
      "outputs": [
        {
          "output_type": "execute_result",
          "data": {
            "text/plain": [
              "['Ford', 'Benz', 'BMW']"
            ]
          },
          "metadata": {},
          "execution_count": 38
        }
      ],
      "source": [
        "car = [\"Ford\", \"Benz\", \"BMW\"]\n",
        "car"
      ]
    },
    {
      "cell_type": "markdown",
      "source": [
        "#Access element from the array"
      ],
      "metadata": {
        "id": "gLZD14Em7MEz"
      }
    },
    {
      "cell_type": "code",
      "source": [
        "car[0]"
      ],
      "metadata": {
        "colab": {
          "base_uri": "https://localhost:8080/",
          "height": 35
        },
        "id": "89ksPC2d7TST",
        "outputId": "da542a3e-2437-4757-c73f-a7a65b229252"
      },
      "execution_count": 39,
      "outputs": [
        {
          "output_type": "execute_result",
          "data": {
            "text/plain": [
              "'Ford'"
            ],
            "application/vnd.google.colaboratory.intrinsic+json": {
              "type": "string"
            }
          },
          "metadata": {},
          "execution_count": 39
        }
      ]
    },
    {
      "cell_type": "code",
      "source": [
        "car[1]"
      ],
      "metadata": {
        "colab": {
          "base_uri": "https://localhost:8080/",
          "height": 35
        },
        "id": "cd-g3Pj47U_M",
        "outputId": "132b8f5b-053b-44f8-e3fc-02e95a2fae57"
      },
      "execution_count": 40,
      "outputs": [
        {
          "output_type": "execute_result",
          "data": {
            "text/plain": [
              "'Benz'"
            ],
            "application/vnd.google.colaboratory.intrinsic+json": {
              "type": "string"
            }
          },
          "metadata": {},
          "execution_count": 40
        }
      ]
    },
    {
      "cell_type": "code",
      "source": [
        "car[2]"
      ],
      "metadata": {
        "colab": {
          "base_uri": "https://localhost:8080/",
          "height": 35
        },
        "id": "N73DxFP-7WcP",
        "outputId": "2b002fe4-c14b-4dec-8be7-f257246258ab"
      },
      "execution_count": 41,
      "outputs": [
        {
          "output_type": "execute_result",
          "data": {
            "text/plain": [
              "'BMW'"
            ],
            "application/vnd.google.colaboratory.intrinsic+json": {
              "type": "string"
            }
          },
          "metadata": {},
          "execution_count": 41
        }
      ]
    },
    {
      "cell_type": "markdown",
      "source": [
        "#Modify the value\n",
        "**Modify the value of the first item**"
      ],
      "metadata": {
        "id": "lLW2HPtA7ewq"
      }
    },
    {
      "cell_type": "code",
      "source": [
        "car[0] = \"Tayoto\"\n",
        "car"
      ],
      "metadata": {
        "colab": {
          "base_uri": "https://localhost:8080/"
        },
        "id": "WC0NizXJ7lOm",
        "outputId": "d62cb15b-11e9-4fb4-fc1e-0f7e9f940a59"
      },
      "execution_count": 42,
      "outputs": [
        {
          "output_type": "execute_result",
          "data": {
            "text/plain": [
              "['Tayoto', 'Benz', 'BMW']"
            ]
          },
          "metadata": {},
          "execution_count": 42
        }
      ]
    },
    {
      "cell_type": "markdown",
      "source": [
        "#length of Array\n",
        "**We use len function to calculate nuber of elements in array**"
      ],
      "metadata": {
        "id": "8rPdZf5f7toE"
      }
    },
    {
      "cell_type": "markdown",
      "source": [
        "Return the nuber of elements in cars array"
      ],
      "metadata": {
        "id": "_hiAsBQJ8EAR"
      }
    },
    {
      "cell_type": "code",
      "source": [
        "car = [\"Ford\", \"Benz\", \"BMW\"]\n",
        "x = len(car)\n",
        "print(x)"
      ],
      "metadata": {
        "colab": {
          "base_uri": "https://localhost:8080/"
        },
        "id": "aMWpDF0b792_",
        "outputId": "e22a2e91-5e87-4e51-91fe-09647a565898"
      },
      "execution_count": 43,
      "outputs": [
        {
          "output_type": "stream",
          "name": "stdout",
          "text": [
            "3\n"
          ]
        }
      ]
    },
    {
      "cell_type": "markdown",
      "source": [
        "# looping through the Array\n",
        "we can use for loop to iterate through array"
      ],
      "metadata": {
        "id": "2AHW4HnL8gfj"
      }
    },
    {
      "cell_type": "code",
      "source": [
        "car = [\"Ford\", \"Benz\", \"BMW\"]\n",
        "for x in car:\n",
        "  print(x)"
      ],
      "metadata": {
        "colab": {
          "base_uri": "https://localhost:8080/"
        },
        "id": "gXNYrw4A8rTr",
        "outputId": "2283907c-9bd4-4015-edc2-8a6558353386"
      },
      "execution_count": 44,
      "outputs": [
        {
          "output_type": "stream",
          "name": "stdout",
          "text": [
            "Ford\n",
            "Benz\n",
            "BMW\n"
          ]
        }
      ]
    },
    {
      "cell_type": "markdown",
      "source": [
        "#Adding elements to the Array\n",
        "**we can add elements to the array by using append method**\n",
        "\n",
        "Add Audi to the cars array"
      ],
      "metadata": {
        "id": "AJvxoVoT-MAm"
      }
    },
    {
      "cell_type": "code",
      "source": [
        "car.append(\"Audi\")\n",
        "car"
      ],
      "metadata": {
        "colab": {
          "base_uri": "https://localhost:8080/"
        },
        "id": "CqKmB267-YFL",
        "outputId": "6a1582f8-a41f-4f34-b971-b11d735b2e14"
      },
      "execution_count": 45,
      "outputs": [
        {
          "output_type": "execute_result",
          "data": {
            "text/plain": [
              "['Ford', 'Benz', 'BMW', 'Audi']"
            ]
          },
          "metadata": {},
          "execution_count": 45
        }
      ]
    },
    {
      "cell_type": "markdown",
      "source": [
        "# Remove element from the Array\n",
        "1. **we can remove the element from the array using remove( ) method**\n",
        "\n",
        "remove \"Ford\" from the car Array"
      ],
      "metadata": {
        "id": "EKGwpPb3-jd-"
      }
    },
    {
      "cell_type": "code",
      "source": [
        "car = [\"Ford\", \"Benz\", \"BMW\"]\n",
        "car.remove(\"Ford\")\n",
        "print(car)"
      ],
      "metadata": {
        "colab": {
          "base_uri": "https://localhost:8080/"
        },
        "id": "74rFaaIA_I96",
        "outputId": "1c5d8615-5889-4d8a-9c27-5365a4af1276"
      },
      "execution_count": 49,
      "outputs": [
        {
          "output_type": "stream",
          "name": "stdout",
          "text": [
            "['Benz', 'BMW']\n"
          ]
        }
      ]
    },
    {
      "cell_type": "markdown",
      "source": [
        "2. **we can use pop( ) method to remove element from the array**\n",
        "\n",
        "Delete the second element of the cars array:"
      ],
      "metadata": {
        "id": "vTXJlj9d_qt5"
      }
    },
    {
      "cell_type": "code",
      "source": [
        "car = [\"Ford\", \"Benz\", \"BMW\"]\n",
        "car.pop(1)"
      ],
      "metadata": {
        "colab": {
          "base_uri": "https://localhost:8080/",
          "height": 35
        },
        "id": "5YWnWBTP-5wD",
        "outputId": "6563dcd2-b8f0-4a6a-dbea-757c7d19ce61"
      },
      "execution_count": 52,
      "outputs": [
        {
          "output_type": "execute_result",
          "data": {
            "text/plain": [
              "'Benz'"
            ],
            "application/vnd.google.colaboratory.intrinsic+json": {
              "type": "string"
            }
          },
          "metadata": {},
          "execution_count": 52
        }
      ]
    }
  ]
}