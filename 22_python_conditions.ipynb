{
  "nbformat": 4,
  "nbformat_minor": 0,
  "metadata": {
    "colab": {
      "provenance": [],
      "authorship_tag": "ABX9TyMaavTR+EBFyk9OkixWttXv",
      "include_colab_link": true
    },
    "kernelspec": {
      "name": "python3",
      "display_name": "Python 3"
    },
    "language_info": {
      "name": "python"
    }
  },
  "cells": [
    {
      "cell_type": "markdown",
      "metadata": {
        "id": "view-in-github",
        "colab_type": "text"
      },
      "source": [
        "<a href=\"https://colab.research.google.com/github/Pushpalatha-H/py/blob/main/22_python_conditions.ipynb\" target=\"_parent\"><img src=\"https://colab.research.google.com/assets/colab-badge.svg\" alt=\"Open In Colab\"/></a>"
      ]
    },
    {
      "cell_type": "markdown",
      "source": [
        "#Python Conditions and if statements"
      ],
      "metadata": {
        "id": "1O1Ul9m0gF4e"
      }
    },
    {
      "cell_type": "markdown",
      "source": [
        "#If statement:"
      ],
      "metadata": {
        "id": "ljW2Fn1Tgqn1"
      }
    },
    {
      "cell_type": "code",
      "execution_count": 2,
      "metadata": {
        "colab": {
          "base_uri": "https://localhost:8080/"
        },
        "id": "P1MtLCqifKKI",
        "outputId": "a5fbd550-adbd-486d-e1dc-b87fa6873b7e"
      },
      "outputs": [
        {
          "output_type": "stream",
          "name": "stdout",
          "text": [
            "b is greater than a\n"
          ]
        }
      ],
      "source": [
        "a = 23\n",
        "b = 200\n",
        "if b > a:\n",
        "  print(\"b is greater than a\")"
      ]
    },
    {
      "cell_type": "markdown",
      "source": [
        "# elif\n",
        "**It the previous condition is not true, try this condition**"
      ],
      "metadata": {
        "id": "krI6TIEPhIt-"
      }
    },
    {
      "cell_type": "code",
      "source": [
        "a = 44\n",
        "b = 44\n",
        "if a > b:\n",
        "  print(\"a is greater than b\")\n",
        "elif a==b :\n",
        "  print(\"a is equal to b\")"
      ],
      "metadata": {
        "colab": {
          "base_uri": "https://localhost:8080/"
        },
        "id": "W71rAf4jhK7A",
        "outputId": "04b71428-8129-47ad-fa0d-8beb1b2bd7a5"
      },
      "execution_count": 6,
      "outputs": [
        {
          "output_type": "stream",
          "name": "stdout",
          "text": [
            "a is equal to b\n"
          ]
        }
      ]
    },
    {
      "cell_type": "markdown",
      "source": [
        "#else\n",
        "**else keyword catch the condition which isnt caught by previous condition**"
      ],
      "metadata": {
        "id": "FR7O5fTjiWgv"
      }
    },
    {
      "cell_type": "code",
      "source": [
        "a = 200\n",
        "b = 22\n",
        "if b > a:\n",
        "  print(\"b is greater than a\")\n",
        "elif b == a:\n",
        "  print(\"b is equal to a\")\n",
        "else:\n",
        "  print(\"b is lesser than a\")"
      ],
      "metadata": {
        "colab": {
          "base_uri": "https://localhost:8080/"
        },
        "id": "GfK6l5nei3OE",
        "outputId": "e2a34663-db74-44e5-e2c8-9d4bef4b9a0c"
      },
      "execution_count": 7,
      "outputs": [
        {
          "output_type": "stream",
          "name": "stdout",
          "text": [
            "b is lesser than a\n"
          ]
        }
      ]
    },
    {
      "cell_type": "markdown",
      "source": [
        "**we can also have else condition directly without elif**"
      ],
      "metadata": {
        "id": "Al9DYHdYjWUm"
      }
    },
    {
      "cell_type": "code",
      "source": [
        "a = 200\n",
        "b = 22\n",
        "if b > a:\n",
        "  print(\"b is greater than a\")\n",
        "else:\n",
        "  print(\"b is lesser than a\")"
      ],
      "metadata": {
        "colab": {
          "base_uri": "https://localhost:8080/"
        },
        "id": "Fwb9RbebjfsI",
        "outputId": "3fec6e1e-bdff-451f-bb91-138cab3978a2"
      },
      "execution_count": 8,
      "outputs": [
        {
          "output_type": "stream",
          "name": "stdout",
          "text": [
            "b is lesser than a\n"
          ]
        }
      ]
    },
    {
      "cell_type": "markdown",
      "source": [
        "#Short Hand If\n",
        "**If we have only one statement to execute we can write it in only one line of code**"
      ],
      "metadata": {
        "id": "5gOcOFoBj5Mq"
      }
    },
    {
      "cell_type": "code",
      "source": [
        "a = 78\n",
        "b = 56\n",
        "if a > b : print(\"a is greater than b\")"
      ],
      "metadata": {
        "colab": {
          "base_uri": "https://localhost:8080/"
        },
        "id": "D4XvJpK_kW92",
        "outputId": "39fa7655-cadf-4e2b-f602-af7313440af2"
      },
      "execution_count": 9,
      "outputs": [
        {
          "output_type": "stream",
          "name": "stdout",
          "text": [
            "a is greater than b\n"
          ]
        }
      ]
    },
    {
      "cell_type": "markdown",
      "source": [
        "#Short Hand If ... Else\n",
        "**If we have only one statement to execute we can execute if and else condition in same line of code**"
      ],
      "metadata": {
        "id": "nfsdHH1rkqTZ"
      }
    },
    {
      "cell_type": "code",
      "source": [
        "a = 78\n",
        "b = 45\n",
        "print(\"A\") if a > b else print(\"B\")"
      ],
      "metadata": {
        "colab": {
          "base_uri": "https://localhost:8080/"
        },
        "id": "yQc3dMiLj8YC",
        "outputId": "28b41906-036d-4680-f84a-5fc9c19c552f"
      },
      "execution_count": 10,
      "outputs": [
        {
          "output_type": "stream",
          "name": "stdout",
          "text": [
            "A\n"
          ]
        }
      ]
    },
    {
      "cell_type": "markdown",
      "source": [
        "**We can have multiple else condition in same line**"
      ],
      "metadata": {
        "id": "n4XQHPvClVj5"
      }
    },
    {
      "cell_type": "code",
      "source": [
        "a = 12\n",
        "b = 18\n",
        "print(\"A\") if a>b else print(\"=\") if a==b else print(\"B\")"
      ],
      "metadata": {
        "colab": {
          "base_uri": "https://localhost:8080/"
        },
        "id": "DxvkAO5uledy",
        "outputId": "be02688e-178e-4b90-c777-a3bf5bc96bac"
      },
      "execution_count": 12,
      "outputs": [
        {
          "output_type": "stream",
          "name": "stdout",
          "text": [
            "B\n"
          ]
        }
      ]
    },
    {
      "cell_type": "markdown",
      "source": [
        "# And\n",
        "**And is a logical operator used to combine conditional statements**"
      ],
      "metadata": {
        "id": "hYcPCAECmHHM"
      }
    },
    {
      "cell_type": "markdown",
      "source": [
        "Test if a is greater than b, AND if c is greater than a:"
      ],
      "metadata": {
        "id": "qfVoLyIfm4MS"
      }
    },
    {
      "cell_type": "code",
      "source": [
        "a = 200\n",
        "b = 33\n",
        "c = 500\n",
        "if (a>b) and (c>a):\n",
        "  print(\"Both are True\")"
      ],
      "metadata": {
        "colab": {
          "base_uri": "https://localhost:8080/"
        },
        "id": "BPNUcSYmmzgl",
        "outputId": "c2eb79d8-0c5c-4465-9e82-2717f26a7e0c"
      },
      "execution_count": 14,
      "outputs": [
        {
          "output_type": "stream",
          "name": "stdout",
          "text": [
            "Both are True\n"
          ]
        }
      ]
    },
    {
      "cell_type": "markdown",
      "source": [
        "# or\n",
        "**OR condition is a logic operation, used to combine two conditions**"
      ],
      "metadata": {
        "id": "5gUeEVZknJ3P"
      }
    },
    {
      "cell_type": "markdown",
      "source": [
        "Test if a is greater than b, OR if a is greater than c:"
      ],
      "metadata": {
        "id": "9jenEU4noHcX"
      }
    },
    {
      "cell_type": "code",
      "source": [
        "a = 200\n",
        "b = 33\n",
        "c = 500\n",
        "if (a > b) or (a > c):\n",
        "  print(\"One of this are true\")"
      ],
      "metadata": {
        "colab": {
          "base_uri": "https://localhost:8080/"
        },
        "id": "bavXmms0n746",
        "outputId": "7854c06f-f42d-4f27-8c98-0425e5304069"
      },
      "execution_count": 16,
      "outputs": [
        {
          "output_type": "stream",
          "name": "stdout",
          "text": [
            "One of this are true\n"
          ]
        }
      ]
    },
    {
      "cell_type": "markdown",
      "source": [
        "#not\n",
        "**keyword not is used to reverse statement.**"
      ],
      "metadata": {
        "id": "rAVF0iQmlrGp"
      }
    },
    {
      "cell_type": "code",
      "source": [
        "a = 7\n",
        "b = 56\n",
        "if not (a > b):\n",
        "  print(\"a is not greater than b\")"
      ],
      "metadata": {
        "colab": {
          "base_uri": "https://localhost:8080/"
        },
        "id": "X8EK0VgdlzkH",
        "outputId": "27d603f9-5116-4fd4-c5e0-67e519c29391"
      },
      "execution_count": 3,
      "outputs": [
        {
          "output_type": "stream",
          "name": "stdout",
          "text": [
            "a is not greater than b\n"
          ]
        }
      ]
    },
    {
      "cell_type": "markdown",
      "source": [
        "#Nested if\n",
        "**we can have if statement, inside if statement, we call this as Nested if**"
      ],
      "metadata": {
        "id": "ylxPHFW2mX-2"
      }
    },
    {
      "cell_type": "code",
      "source": [
        "x = 40\n",
        "if x > 10:\n",
        "  print(\"x is greater than 10\")\n",
        "  if x > 20:\n",
        "    print(\"x is greater than 20\")\n",
        "  else:\n",
        "    print(\"x is not greater than 20\")"
      ],
      "metadata": {
        "colab": {
          "base_uri": "https://localhost:8080/"
        },
        "id": "CXrozZg_mvnL",
        "outputId": "da1dceb3-752d-410b-c684-691734506fb4"
      },
      "execution_count": 5,
      "outputs": [
        {
          "output_type": "stream",
          "name": "stdout",
          "text": [
            "x is greater than 10\n",
            "x is greater than 20\n"
          ]
        }
      ]
    },
    {
      "cell_type": "markdown",
      "source": [
        "#The pass Statement"
      ],
      "metadata": {
        "id": "Lo-nCx3Ln1Hb"
      }
    },
    {
      "cell_type": "markdown",
      "source": [
        "**we dont want to keep the print anything inside the statement. but, If we want to pass the statement without getting the error.**"
      ],
      "metadata": {
        "id": "_1I68uuaoCRF"
      }
    },
    {
      "cell_type": "code",
      "source": [
        "a = 33\n",
        "b = 200\n",
        "\n",
        "if a > b:\n",
        "  pass"
      ],
      "metadata": {
        "id": "thk3Ke03nznO"
      },
      "execution_count": 7,
      "outputs": []
    }
  ]
}