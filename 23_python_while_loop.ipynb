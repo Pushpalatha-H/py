{
  "nbformat": 4,
  "nbformat_minor": 0,
  "metadata": {
    "colab": {
      "provenance": [],
      "authorship_tag": "ABX9TyMmW8Q66cZsjHL+7WfvTHFL",
      "include_colab_link": true
    },
    "kernelspec": {
      "name": "python3",
      "display_name": "Python 3"
    },
    "language_info": {
      "name": "python"
    }
  },
  "cells": [
    {
      "cell_type": "markdown",
      "metadata": {
        "id": "view-in-github",
        "colab_type": "text"
      },
      "source": [
        "<a href=\"https://colab.research.google.com/github/Pushpalatha-H/py/blob/main/23_python_while_loop.ipynb\" target=\"_parent\"><img src=\"https://colab.research.google.com/assets/colab-badge.svg\" alt=\"Open In Colab\"/></a>"
      ]
    },
    {
      "cell_type": "markdown",
      "source": [
        "#Python while loops\n",
        "Python has two primitive loops:\n",
        "\n",
        "while loop\n",
        "\n",
        "for loop"
      ],
      "metadata": {
        "id": "j1GNbSJlsvW4"
      }
    },
    {
      "cell_type": "markdown",
      "source": [
        "# The while loop\n",
        "The while loop execute as long as the condition is true"
      ],
      "metadata": {
        "id": "p1L-3Z-rtm9E"
      }
    },
    {
      "cell_type": "code",
      "execution_count": 7,
      "metadata": {
        "colab": {
          "base_uri": "https://localhost:8080/"
        },
        "id": "nWdBF_vVslvy",
        "outputId": "44c71d51-1b5a-4c21-bb61-672c1dfbf63e"
      },
      "outputs": [
        {
          "output_type": "stream",
          "name": "stdout",
          "text": [
            "0\n",
            "1\n",
            "2\n",
            "3\n",
            "4\n",
            "5\n"
          ]
        }
      ],
      "source": [
        "# Print i as long as i is less than 6:\n",
        "i = 0\n",
        "while i < 6:\n",
        "  print(i)\n",
        "  i += 1"
      ]
    },
    {
      "cell_type": "markdown",
      "source": [
        "# The break Statement\n",
        "**we can stop the loop by using break statement even if the statement is True**\n",
        "\n",
        "Exit the loop when i is 3:"
      ],
      "metadata": {
        "id": "UuBzsQqYuZfb"
      }
    },
    {
      "cell_type": "code",
      "source": [
        "i = 1                         # break loop when i is 3\n",
        "while i < 6:\n",
        "  print(i)\n",
        "  if i == 3:\n",
        "    break\n",
        "  i += 1"
      ],
      "metadata": {
        "colab": {
          "base_uri": "https://localhost:8080/"
        },
        "id": "o-iCQkaoukow",
        "outputId": "3fa8e997-d37a-4516-ab01-aa20e8c866d0"
      },
      "execution_count": 8,
      "outputs": [
        {
          "output_type": "stream",
          "name": "stdout",
          "text": [
            "1\n",
            "2\n",
            "3\n"
          ]
        }
      ]
    },
    {
      "cell_type": "markdown",
      "source": [
        "# The Continue Statement\n",
        "**we can stop current statement and run next statement with continue statement**\n",
        "\n",
        "Continue to the next iteration if i is 3:"
      ],
      "metadata": {
        "id": "V7GqR4Tdxf7u"
      }
    },
    {
      "cell_type": "code",
      "source": [
        "i = 0                                 # continue loop even when i is 3\n",
        "while i < 6:\n",
        "  i += 1\n",
        "  if i == 3:\n",
        "    continue\n",
        "  print(i)"
      ],
      "metadata": {
        "colab": {
          "base_uri": "https://localhost:8080/"
        },
        "id": "08eslSscyGkl",
        "outputId": "3bfcc0c4-6868-415b-fa8f-7dc9c487dcd3"
      },
      "execution_count": 10,
      "outputs": [
        {
          "output_type": "stream",
          "name": "stdout",
          "text": [
            "1\n",
            "2\n",
            "4\n",
            "5\n",
            "6\n"
          ]
        }
      ]
    },
    {
      "cell_type": "markdown",
      "source": [
        "#else Statement\n",
        "**The else statement run the block of code when the condition is no longer true**\n",
        "\n",
        "Print a message once the condition is false:"
      ],
      "metadata": {
        "id": "TzmZCr04_h6Z"
      }
    },
    {
      "cell_type": "code",
      "source": [
        "i = 0\n",
        "while i < 6:\n",
        "    print(i)\n",
        "    i += 1\n",
        "else:\n",
        "  print(\"i is less than 6\")"
      ],
      "metadata": {
        "colab": {
          "base_uri": "https://localhost:8080/"
        },
        "id": "AhqtpeMq-_yr",
        "outputId": "c247f7d4-e0a1-4777-94b0-a7914e8162e7"
      },
      "execution_count": 19,
      "outputs": [
        {
          "output_type": "stream",
          "name": "stdout",
          "text": [
            "0\n",
            "1\n",
            "2\n",
            "3\n",
            "4\n",
            "5\n",
            "i is less than 6\n"
          ]
        }
      ]
    }
  ]
}